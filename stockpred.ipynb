{
 "cells": [
  {
   "cell_type": "code",
   "execution_count": 20,
   "metadata": {},
   "outputs": [],
   "source": [
    "import numpy as np\n",
    "import pandas as pd\n",
    "import yfinance as yf\n",
    "import datetime as dt"
   ]
  },
  {
   "cell_type": "code",
   "execution_count": 21,
   "metadata": {},
   "outputs": [
    {
     "name": "stderr",
     "output_type": "stream",
     "text": [
      "[*********************100%***********************]  1 of 1 completed\n"
     ]
    },
    {
     "data": {
      "text/html": [
       "<div>\n",
       "<style scoped>\n",
       "    .dataframe tbody tr th:only-of-type {\n",
       "        vertical-align: middle;\n",
       "    }\n",
       "\n",
       "    .dataframe tbody tr th {\n",
       "        vertical-align: top;\n",
       "    }\n",
       "\n",
       "    .dataframe thead th {\n",
       "        text-align: right;\n",
       "    }\n",
       "</style>\n",
       "<table border=\"1\" class=\"dataframe\">\n",
       "  <thead>\n",
       "    <tr style=\"text-align: right;\">\n",
       "      <th></th>\n",
       "      <th>Open</th>\n",
       "      <th>High</th>\n",
       "      <th>Low</th>\n",
       "      <th>Close</th>\n",
       "      <th>Adj Close</th>\n",
       "      <th>Volume</th>\n",
       "      <th>Dividends</th>\n",
       "      <th>Stock_Splits</th>\n",
       "    </tr>\n",
       "    <tr>\n",
       "      <th>Date</th>\n",
       "      <th></th>\n",
       "      <th></th>\n",
       "      <th></th>\n",
       "      <th></th>\n",
       "      <th></th>\n",
       "      <th></th>\n",
       "      <th></th>\n",
       "      <th></th>\n",
       "    </tr>\n",
       "  </thead>\n",
       "  <tbody>\n",
       "    <tr>\n",
       "      <th>2019-01-02</th>\n",
       "      <td>51.360001</td>\n",
       "      <td>53.039501</td>\n",
       "      <td>51.264000</td>\n",
       "      <td>52.734001</td>\n",
       "      <td>52.603748</td>\n",
       "      <td>31868000</td>\n",
       "      <td>0.0</td>\n",
       "      <td>0.0</td>\n",
       "    </tr>\n",
       "    <tr>\n",
       "      <th>2019-01-03</th>\n",
       "      <td>52.533501</td>\n",
       "      <td>53.313000</td>\n",
       "      <td>51.118500</td>\n",
       "      <td>51.273499</td>\n",
       "      <td>51.146851</td>\n",
       "      <td>41960000</td>\n",
       "      <td>0.0</td>\n",
       "      <td>0.0</td>\n",
       "    </tr>\n",
       "    <tr>\n",
       "      <th>2019-01-04</th>\n",
       "      <td>52.127998</td>\n",
       "      <td>54.000000</td>\n",
       "      <td>51.842999</td>\n",
       "      <td>53.903500</td>\n",
       "      <td>53.770355</td>\n",
       "      <td>46022000</td>\n",
       "      <td>0.0</td>\n",
       "      <td>0.0</td>\n",
       "    </tr>\n",
       "    <tr>\n",
       "      <th>2019-01-07</th>\n",
       "      <td>54.048500</td>\n",
       "      <td>54.134998</td>\n",
       "      <td>53.132000</td>\n",
       "      <td>53.796001</td>\n",
       "      <td>53.663124</td>\n",
       "      <td>47446000</td>\n",
       "      <td>0.0</td>\n",
       "      <td>0.0</td>\n",
       "    </tr>\n",
       "    <tr>\n",
       "      <th>2019-01-08</th>\n",
       "      <td>54.299999</td>\n",
       "      <td>54.667500</td>\n",
       "      <td>53.417500</td>\n",
       "      <td>54.268501</td>\n",
       "      <td>54.134457</td>\n",
       "      <td>35414000</td>\n",
       "      <td>0.0</td>\n",
       "      <td>0.0</td>\n",
       "    </tr>\n",
       "    <tr>\n",
       "      <th>...</th>\n",
       "      <td>...</td>\n",
       "      <td>...</td>\n",
       "      <td>...</td>\n",
       "      <td>...</td>\n",
       "      <td>...</td>\n",
       "      <td>...</td>\n",
       "      <td>...</td>\n",
       "      <td>...</td>\n",
       "    </tr>\n",
       "    <tr>\n",
       "      <th>2024-09-20</th>\n",
       "      <td>163.500000</td>\n",
       "      <td>163.729996</td>\n",
       "      <td>162.059998</td>\n",
       "      <td>163.589996</td>\n",
       "      <td>163.589996</td>\n",
       "      <td>40896400</td>\n",
       "      <td>0.0</td>\n",
       "      <td>0.0</td>\n",
       "    </tr>\n",
       "    <tr>\n",
       "      <th>2024-09-23</th>\n",
       "      <td>164.350006</td>\n",
       "      <td>165.490005</td>\n",
       "      <td>161.669998</td>\n",
       "      <td>161.850006</td>\n",
       "      <td>161.850006</td>\n",
       "      <td>24150900</td>\n",
       "      <td>0.0</td>\n",
       "      <td>0.0</td>\n",
       "    </tr>\n",
       "    <tr>\n",
       "      <th>2024-09-24</th>\n",
       "      <td>163.029999</td>\n",
       "      <td>163.220001</td>\n",
       "      <td>160.690002</td>\n",
       "      <td>162.289993</td>\n",
       "      <td>162.289993</td>\n",
       "      <td>23332100</td>\n",
       "      <td>0.0</td>\n",
       "      <td>0.0</td>\n",
       "    </tr>\n",
       "    <tr>\n",
       "      <th>2024-09-25</th>\n",
       "      <td>161.470001</td>\n",
       "      <td>162.809998</td>\n",
       "      <td>161.300003</td>\n",
       "      <td>161.490005</td>\n",
       "      <td>161.490005</td>\n",
       "      <td>18838900</td>\n",
       "      <td>0.0</td>\n",
       "      <td>0.0</td>\n",
       "    </tr>\n",
       "    <tr>\n",
       "      <th>2024-09-26</th>\n",
       "      <td>163.759995</td>\n",
       "      <td>164.080002</td>\n",
       "      <td>162.339996</td>\n",
       "      <td>162.874893</td>\n",
       "      <td>162.874893</td>\n",
       "      <td>9350013</td>\n",
       "      <td>0.0</td>\n",
       "      <td>0.0</td>\n",
       "    </tr>\n",
       "  </tbody>\n",
       "</table>\n",
       "<p>1444 rows × 8 columns</p>\n",
       "</div>"
      ],
      "text/plain": [
       "                  Open        High         Low       Close   Adj Close  \\\n",
       "Date                                                                     \n",
       "2019-01-02   51.360001   53.039501   51.264000   52.734001   52.603748   \n",
       "2019-01-03   52.533501   53.313000   51.118500   51.273499   51.146851   \n",
       "2019-01-04   52.127998   54.000000   51.842999   53.903500   53.770355   \n",
       "2019-01-07   54.048500   54.134998   53.132000   53.796001   53.663124   \n",
       "2019-01-08   54.299999   54.667500   53.417500   54.268501   54.134457   \n",
       "...                ...         ...         ...         ...         ...   \n",
       "2024-09-20  163.500000  163.729996  162.059998  163.589996  163.589996   \n",
       "2024-09-23  164.350006  165.490005  161.669998  161.850006  161.850006   \n",
       "2024-09-24  163.029999  163.220001  160.690002  162.289993  162.289993   \n",
       "2024-09-25  161.470001  162.809998  161.300003  161.490005  161.490005   \n",
       "2024-09-26  163.759995  164.080002  162.339996  162.874893  162.874893   \n",
       "\n",
       "              Volume  Dividends  Stock_Splits  \n",
       "Date                                           \n",
       "2019-01-02  31868000        0.0           0.0  \n",
       "2019-01-03  41960000        0.0           0.0  \n",
       "2019-01-04  46022000        0.0           0.0  \n",
       "2019-01-07  47446000        0.0           0.0  \n",
       "2019-01-08  35414000        0.0           0.0  \n",
       "...              ...        ...           ...  \n",
       "2024-09-20  40896400        0.0           0.0  \n",
       "2024-09-23  24150900        0.0           0.0  \n",
       "2024-09-24  23332100        0.0           0.0  \n",
       "2024-09-25  18838900        0.0           0.0  \n",
       "2024-09-26   9350013        0.0           0.0  \n",
       "\n",
       "[1444 rows x 8 columns]"
      ]
     },
     "execution_count": 21,
     "metadata": {},
     "output_type": "execute_result"
    }
   ],
   "source": [
    "start_date = dt.datetime(2019,1,1)\n",
    "end_date = dt.datetime.now()\n",
    "\n",
    "#loading from yahoo finance\n",
    "datag = yf.download(\"GOOGL\",start_date,end_date) # without dividends and stock_splits\n",
    "stockg = yf.Ticker('GOOGL')\n",
    "dfg = stockg.history(start = start_date, end = end_date) # contains dividends and stock_splits\n",
    "datag['Dividends']=list(dfg['Dividends'])\n",
    "datag['Stock_Splits']=list(dfg['Stock Splits'])\n",
    "datag"
   ]
  },
  {
   "cell_type": "code",
   "execution_count": 22,
   "metadata": {},
   "outputs": [
    {
     "name": "stderr",
     "output_type": "stream",
     "text": [
      "[*********************100%***********************]  1 of 1 completed\n"
     ]
    },
    {
     "data": {
      "text/html": [
       "<div>\n",
       "<style scoped>\n",
       "    .dataframe tbody tr th:only-of-type {\n",
       "        vertical-align: middle;\n",
       "    }\n",
       "\n",
       "    .dataframe tbody tr th {\n",
       "        vertical-align: top;\n",
       "    }\n",
       "\n",
       "    .dataframe thead th {\n",
       "        text-align: right;\n",
       "    }\n",
       "</style>\n",
       "<table border=\"1\" class=\"dataframe\">\n",
       "  <thead>\n",
       "    <tr style=\"text-align: right;\">\n",
       "      <th></th>\n",
       "      <th>Open</th>\n",
       "      <th>High</th>\n",
       "      <th>Low</th>\n",
       "      <th>Close</th>\n",
       "      <th>Adj Close</th>\n",
       "      <th>Volume</th>\n",
       "      <th>Dividends</th>\n",
       "      <th>Stock_Splits</th>\n",
       "    </tr>\n",
       "    <tr>\n",
       "      <th>Date</th>\n",
       "      <th></th>\n",
       "      <th></th>\n",
       "      <th></th>\n",
       "      <th></th>\n",
       "      <th></th>\n",
       "      <th></th>\n",
       "      <th></th>\n",
       "      <th></th>\n",
       "    </tr>\n",
       "  </thead>\n",
       "  <tbody>\n",
       "    <tr>\n",
       "      <th>2021-01-04</th>\n",
       "      <td>222.529999</td>\n",
       "      <td>223.000000</td>\n",
       "      <td>214.809998</td>\n",
       "      <td>217.690002</td>\n",
       "      <td>210.844269</td>\n",
       "      <td>37130100</td>\n",
       "      <td>0.0</td>\n",
       "      <td>0.0</td>\n",
       "    </tr>\n",
       "    <tr>\n",
       "      <th>2021-01-05</th>\n",
       "      <td>217.259995</td>\n",
       "      <td>218.520004</td>\n",
       "      <td>215.699997</td>\n",
       "      <td>217.899994</td>\n",
       "      <td>211.047684</td>\n",
       "      <td>23823000</td>\n",
       "      <td>0.0</td>\n",
       "      <td>0.0</td>\n",
       "    </tr>\n",
       "    <tr>\n",
       "      <th>2021-01-06</th>\n",
       "      <td>212.169998</td>\n",
       "      <td>216.490005</td>\n",
       "      <td>211.940002</td>\n",
       "      <td>212.250000</td>\n",
       "      <td>205.575363</td>\n",
       "      <td>35930700</td>\n",
       "      <td>0.0</td>\n",
       "      <td>0.0</td>\n",
       "    </tr>\n",
       "    <tr>\n",
       "      <th>2021-01-07</th>\n",
       "      <td>214.039993</td>\n",
       "      <td>219.339996</td>\n",
       "      <td>213.710007</td>\n",
       "      <td>218.289993</td>\n",
       "      <td>211.425415</td>\n",
       "      <td>27694500</td>\n",
       "      <td>0.0</td>\n",
       "      <td>0.0</td>\n",
       "    </tr>\n",
       "    <tr>\n",
       "      <th>2021-01-08</th>\n",
       "      <td>218.679993</td>\n",
       "      <td>220.580002</td>\n",
       "      <td>217.029999</td>\n",
       "      <td>219.619995</td>\n",
       "      <td>212.713577</td>\n",
       "      <td>22956200</td>\n",
       "      <td>0.0</td>\n",
       "      <td>0.0</td>\n",
       "    </tr>\n",
       "    <tr>\n",
       "      <th>...</th>\n",
       "      <td>...</td>\n",
       "      <td>...</td>\n",
       "      <td>...</td>\n",
       "      <td>...</td>\n",
       "      <td>...</td>\n",
       "      <td>...</td>\n",
       "      <td>...</td>\n",
       "      <td>...</td>\n",
       "    </tr>\n",
       "    <tr>\n",
       "      <th>2024-09-20</th>\n",
       "      <td>437.220001</td>\n",
       "      <td>439.239990</td>\n",
       "      <td>434.220001</td>\n",
       "      <td>435.269989</td>\n",
       "      <td>435.269989</td>\n",
       "      <td>55167100</td>\n",
       "      <td>0.0</td>\n",
       "      <td>0.0</td>\n",
       "    </tr>\n",
       "    <tr>\n",
       "      <th>2024-09-23</th>\n",
       "      <td>434.279999</td>\n",
       "      <td>436.459991</td>\n",
       "      <td>430.390015</td>\n",
       "      <td>433.510010</td>\n",
       "      <td>433.510010</td>\n",
       "      <td>15128900</td>\n",
       "      <td>0.0</td>\n",
       "      <td>0.0</td>\n",
       "    </tr>\n",
       "    <tr>\n",
       "      <th>2024-09-24</th>\n",
       "      <td>433.000000</td>\n",
       "      <td>433.350006</td>\n",
       "      <td>426.100006</td>\n",
       "      <td>429.170013</td>\n",
       "      <td>429.170013</td>\n",
       "      <td>17015800</td>\n",
       "      <td>0.0</td>\n",
       "      <td>0.0</td>\n",
       "    </tr>\n",
       "    <tr>\n",
       "      <th>2024-09-25</th>\n",
       "      <td>429.829987</td>\n",
       "      <td>433.119995</td>\n",
       "      <td>428.570007</td>\n",
       "      <td>432.109985</td>\n",
       "      <td>432.109985</td>\n",
       "      <td>13335000</td>\n",
       "      <td>0.0</td>\n",
       "      <td>0.0</td>\n",
       "    </tr>\n",
       "    <tr>\n",
       "      <th>2024-09-26</th>\n",
       "      <td>435.084991</td>\n",
       "      <td>435.239990</td>\n",
       "      <td>429.734985</td>\n",
       "      <td>430.130005</td>\n",
       "      <td>430.130005</td>\n",
       "      <td>6068421</td>\n",
       "      <td>0.0</td>\n",
       "      <td>0.0</td>\n",
       "    </tr>\n",
       "  </tbody>\n",
       "</table>\n",
       "<p>939 rows × 8 columns</p>\n",
       "</div>"
      ],
      "text/plain": [
       "                  Open        High         Low       Close   Adj Close  \\\n",
       "Date                                                                     \n",
       "2021-01-04  222.529999  223.000000  214.809998  217.690002  210.844269   \n",
       "2021-01-05  217.259995  218.520004  215.699997  217.899994  211.047684   \n",
       "2021-01-06  212.169998  216.490005  211.940002  212.250000  205.575363   \n",
       "2021-01-07  214.039993  219.339996  213.710007  218.289993  211.425415   \n",
       "2021-01-08  218.679993  220.580002  217.029999  219.619995  212.713577   \n",
       "...                ...         ...         ...         ...         ...   \n",
       "2024-09-20  437.220001  439.239990  434.220001  435.269989  435.269989   \n",
       "2024-09-23  434.279999  436.459991  430.390015  433.510010  433.510010   \n",
       "2024-09-24  433.000000  433.350006  426.100006  429.170013  429.170013   \n",
       "2024-09-25  429.829987  433.119995  428.570007  432.109985  432.109985   \n",
       "2024-09-26  435.084991  435.239990  429.734985  430.130005  430.130005   \n",
       "\n",
       "              Volume  Dividends  Stock_Splits  \n",
       "Date                                           \n",
       "2021-01-04  37130100        0.0           0.0  \n",
       "2021-01-05  23823000        0.0           0.0  \n",
       "2021-01-06  35930700        0.0           0.0  \n",
       "2021-01-07  27694500        0.0           0.0  \n",
       "2021-01-08  22956200        0.0           0.0  \n",
       "...              ...        ...           ...  \n",
       "2024-09-20  55167100        0.0           0.0  \n",
       "2024-09-23  15128900        0.0           0.0  \n",
       "2024-09-24  17015800        0.0           0.0  \n",
       "2024-09-25  13335000        0.0           0.0  \n",
       "2024-09-26   6068421        0.0           0.0  \n",
       "\n",
       "[939 rows x 8 columns]"
      ]
     },
     "execution_count": 22,
     "metadata": {},
     "output_type": "execute_result"
    }
   ],
   "source": [
    "start_date = dt.datetime(2021,1,1)\n",
    "end_date = dt.datetime.now()\n",
    "\n",
    "#loading from yahoo finance\n",
    "datam = yf.download(\"MSFT\",start_date,end_date) # without dividends and stock_splits\n",
    "stockm = yf.Ticker(\"MSFT\")\n",
    "dfm = stockm.history(start = start_date, end = end_date) # contains dividends and stock_splits\n",
    "datam['Dividends']=list(dfm['Dividends'])\n",
    "datam['Stock_Splits']=list(dfm['Stock Splits'])\n",
    "datam"
   ]
  },
  {
   "cell_type": "code",
   "execution_count": 23,
   "metadata": {},
   "outputs": [
    {
     "data": {
      "text/html": [
       "<div>\n",
       "<style scoped>\n",
       "    .dataframe tbody tr th:only-of-type {\n",
       "        vertical-align: middle;\n",
       "    }\n",
       "\n",
       "    .dataframe tbody tr th {\n",
       "        vertical-align: top;\n",
       "    }\n",
       "\n",
       "    .dataframe thead th {\n",
       "        text-align: right;\n",
       "    }\n",
       "</style>\n",
       "<table border=\"1\" class=\"dataframe\">\n",
       "  <thead>\n",
       "    <tr style=\"text-align: right;\">\n",
       "      <th></th>\n",
       "      <th>Open</th>\n",
       "      <th>High</th>\n",
       "      <th>Low</th>\n",
       "      <th>Close</th>\n",
       "      <th>Adj Close</th>\n",
       "      <th>Volume</th>\n",
       "      <th>Dividends</th>\n",
       "      <th>Stock_Splits</th>\n",
       "    </tr>\n",
       "  </thead>\n",
       "  <tbody>\n",
       "    <tr>\n",
       "      <th>count</th>\n",
       "      <td>1444.000000</td>\n",
       "      <td>1444.000000</td>\n",
       "      <td>1444.000000</td>\n",
       "      <td>1444.000000</td>\n",
       "      <td>1444.000000</td>\n",
       "      <td>1.444000e+03</td>\n",
       "      <td>1444.000000</td>\n",
       "      <td>1444.000000</td>\n",
       "    </tr>\n",
       "    <tr>\n",
       "      <th>mean</th>\n",
       "      <td>106.085336</td>\n",
       "      <td>107.273099</td>\n",
       "      <td>104.970910</td>\n",
       "      <td>106.148723</td>\n",
       "      <td>105.898796</td>\n",
       "      <td>3.286214e+07</td>\n",
       "      <td>0.000277</td>\n",
       "      <td>0.013850</td>\n",
       "    </tr>\n",
       "    <tr>\n",
       "      <th>std</th>\n",
       "      <td>35.026339</td>\n",
       "      <td>35.337702</td>\n",
       "      <td>34.691981</td>\n",
       "      <td>34.998861</td>\n",
       "      <td>34.934328</td>\n",
       "      <td>1.464830e+07</td>\n",
       "      <td>0.007441</td>\n",
       "      <td>0.526316</td>\n",
       "    </tr>\n",
       "    <tr>\n",
       "      <th>min</th>\n",
       "      <td>51.360001</td>\n",
       "      <td>52.500000</td>\n",
       "      <td>50.443501</td>\n",
       "      <td>51.273499</td>\n",
       "      <td>51.146851</td>\n",
       "      <td>9.312000e+06</td>\n",
       "      <td>0.000000</td>\n",
       "      <td>0.000000</td>\n",
       "    </tr>\n",
       "    <tr>\n",
       "      <th>25%</th>\n",
       "      <td>72.636377</td>\n",
       "      <td>73.384249</td>\n",
       "      <td>71.727875</td>\n",
       "      <td>72.591621</td>\n",
       "      <td>72.412317</td>\n",
       "      <td>2.354090e+07</td>\n",
       "      <td>0.000000</td>\n",
       "      <td>0.000000</td>\n",
       "    </tr>\n",
       "    <tr>\n",
       "      <th>50%</th>\n",
       "      <td>105.790001</td>\n",
       "      <td>107.419998</td>\n",
       "      <td>104.626999</td>\n",
       "      <td>105.970001</td>\n",
       "      <td>105.708252</td>\n",
       "      <td>2.912245e+07</td>\n",
       "      <td>0.000000</td>\n",
       "      <td>0.000000</td>\n",
       "    </tr>\n",
       "    <tr>\n",
       "      <th>75%</th>\n",
       "      <td>135.229877</td>\n",
       "      <td>136.713245</td>\n",
       "      <td>134.014996</td>\n",
       "      <td>135.544502</td>\n",
       "      <td>135.209705</td>\n",
       "      <td>3.722815e+07</td>\n",
       "      <td>0.000000</td>\n",
       "      <td>0.000000</td>\n",
       "    </tr>\n",
       "    <tr>\n",
       "      <th>max</th>\n",
       "      <td>190.309998</td>\n",
       "      <td>191.750000</td>\n",
       "      <td>189.029999</td>\n",
       "      <td>191.179993</td>\n",
       "      <td>190.926636</td>\n",
       "      <td>1.331780e+08</td>\n",
       "      <td>0.200000</td>\n",
       "      <td>20.000000</td>\n",
       "    </tr>\n",
       "  </tbody>\n",
       "</table>\n",
       "</div>"
      ],
      "text/plain": [
       "              Open         High          Low        Close    Adj Close  \\\n",
       "count  1444.000000  1444.000000  1444.000000  1444.000000  1444.000000   \n",
       "mean    106.085336   107.273099   104.970910   106.148723   105.898796   \n",
       "std      35.026339    35.337702    34.691981    34.998861    34.934328   \n",
       "min      51.360001    52.500000    50.443501    51.273499    51.146851   \n",
       "25%      72.636377    73.384249    71.727875    72.591621    72.412317   \n",
       "50%     105.790001   107.419998   104.626999   105.970001   105.708252   \n",
       "75%     135.229877   136.713245   134.014996   135.544502   135.209705   \n",
       "max     190.309998   191.750000   189.029999   191.179993   190.926636   \n",
       "\n",
       "             Volume    Dividends  Stock_Splits  \n",
       "count  1.444000e+03  1444.000000   1444.000000  \n",
       "mean   3.286214e+07     0.000277      0.013850  \n",
       "std    1.464830e+07     0.007441      0.526316  \n",
       "min    9.312000e+06     0.000000      0.000000  \n",
       "25%    2.354090e+07     0.000000      0.000000  \n",
       "50%    2.912245e+07     0.000000      0.000000  \n",
       "75%    3.722815e+07     0.000000      0.000000  \n",
       "max    1.331780e+08     0.200000     20.000000  "
      ]
     },
     "execution_count": 23,
     "metadata": {},
     "output_type": "execute_result"
    }
   ],
   "source": [
    "datag.describe()"
   ]
  },
  {
   "cell_type": "code",
   "execution_count": 24,
   "metadata": {},
   "outputs": [
    {
     "data": {
      "text/html": [
       "<div>\n",
       "<style scoped>\n",
       "    .dataframe tbody tr th:only-of-type {\n",
       "        vertical-align: middle;\n",
       "    }\n",
       "\n",
       "    .dataframe tbody tr th {\n",
       "        vertical-align: top;\n",
       "    }\n",
       "\n",
       "    .dataframe thead th {\n",
       "        text-align: right;\n",
       "    }\n",
       "</style>\n",
       "<table border=\"1\" class=\"dataframe\">\n",
       "  <thead>\n",
       "    <tr style=\"text-align: right;\">\n",
       "      <th></th>\n",
       "      <th>Open</th>\n",
       "      <th>High</th>\n",
       "      <th>Low</th>\n",
       "      <th>Close</th>\n",
       "      <th>Adj Close</th>\n",
       "      <th>Volume</th>\n",
       "      <th>Dividends</th>\n",
       "      <th>Stock_Splits</th>\n",
       "    </tr>\n",
       "  </thead>\n",
       "  <tbody>\n",
       "    <tr>\n",
       "      <th>count</th>\n",
       "      <td>939.000000</td>\n",
       "      <td>939.000000</td>\n",
       "      <td>939.000000</td>\n",
       "      <td>939.000000</td>\n",
       "      <td>939.000000</td>\n",
       "      <td>9.390000e+02</td>\n",
       "      <td>939.000000</td>\n",
       "      <td>939.0</td>\n",
       "    </tr>\n",
       "    <tr>\n",
       "      <th>mean</th>\n",
       "      <td>312.314553</td>\n",
       "      <td>315.289681</td>\n",
       "      <td>309.182412</td>\n",
       "      <td>312.376528</td>\n",
       "      <td>308.009367</td>\n",
       "      <td>2.676804e+07</td>\n",
       "      <td>0.010522</td>\n",
       "      <td>0.0</td>\n",
       "    </tr>\n",
       "    <tr>\n",
       "      <th>std</th>\n",
       "      <td>64.485332</td>\n",
       "      <td>64.547340</td>\n",
       "      <td>64.121670</td>\n",
       "      <td>64.388748</td>\n",
       "      <td>65.990960</td>\n",
       "      <td>1.029862e+07</td>\n",
       "      <td>0.083078</td>\n",
       "      <td>0.0</td>\n",
       "    </tr>\n",
       "    <tr>\n",
       "      <th>min</th>\n",
       "      <td>212.169998</td>\n",
       "      <td>214.509995</td>\n",
       "      <td>211.940002</td>\n",
       "      <td>212.250000</td>\n",
       "      <td>205.575363</td>\n",
       "      <td>6.068421e+06</td>\n",
       "      <td>0.000000</td>\n",
       "      <td>0.0</td>\n",
       "    </tr>\n",
       "    <tr>\n",
       "      <th>25%</th>\n",
       "      <td>257.495010</td>\n",
       "      <td>260.104996</td>\n",
       "      <td>254.445000</td>\n",
       "      <td>257.195007</td>\n",
       "      <td>251.753868</td>\n",
       "      <td>2.007255e+07</td>\n",
       "      <td>0.000000</td>\n",
       "      <td>0.0</td>\n",
       "    </tr>\n",
       "    <tr>\n",
       "      <th>50%</th>\n",
       "      <td>299.140015</td>\n",
       "      <td>301.119995</td>\n",
       "      <td>295.609985</td>\n",
       "      <td>299.489990</td>\n",
       "      <td>292.261719</td>\n",
       "      <td>2.456360e+07</td>\n",
       "      <td>0.000000</td>\n",
       "      <td>0.0</td>\n",
       "    </tr>\n",
       "    <tr>\n",
       "      <th>75%</th>\n",
       "      <td>345.349991</td>\n",
       "      <td>348.125000</td>\n",
       "      <td>341.135010</td>\n",
       "      <td>344.439987</td>\n",
       "      <td>341.151581</td>\n",
       "      <td>3.066290e+07</td>\n",
       "      <td>0.000000</td>\n",
       "      <td>0.0</td>\n",
       "    </tr>\n",
       "    <tr>\n",
       "      <th>max</th>\n",
       "      <td>467.000000</td>\n",
       "      <td>468.350006</td>\n",
       "      <td>464.459991</td>\n",
       "      <td>467.559998</td>\n",
       "      <td>466.718781</td>\n",
       "      <td>9.042890e+07</td>\n",
       "      <td>0.750000</td>\n",
       "      <td>0.0</td>\n",
       "    </tr>\n",
       "  </tbody>\n",
       "</table>\n",
       "</div>"
      ],
      "text/plain": [
       "             Open        High         Low       Close   Adj Close  \\\n",
       "count  939.000000  939.000000  939.000000  939.000000  939.000000   \n",
       "mean   312.314553  315.289681  309.182412  312.376528  308.009367   \n",
       "std     64.485332   64.547340   64.121670   64.388748   65.990960   \n",
       "min    212.169998  214.509995  211.940002  212.250000  205.575363   \n",
       "25%    257.495010  260.104996  254.445000  257.195007  251.753868   \n",
       "50%    299.140015  301.119995  295.609985  299.489990  292.261719   \n",
       "75%    345.349991  348.125000  341.135010  344.439987  341.151581   \n",
       "max    467.000000  468.350006  464.459991  467.559998  466.718781   \n",
       "\n",
       "             Volume   Dividends  Stock_Splits  \n",
       "count  9.390000e+02  939.000000         939.0  \n",
       "mean   2.676804e+07    0.010522           0.0  \n",
       "std    1.029862e+07    0.083078           0.0  \n",
       "min    6.068421e+06    0.000000           0.0  \n",
       "25%    2.007255e+07    0.000000           0.0  \n",
       "50%    2.456360e+07    0.000000           0.0  \n",
       "75%    3.066290e+07    0.000000           0.0  \n",
       "max    9.042890e+07    0.750000           0.0  "
      ]
     },
     "execution_count": 24,
     "metadata": {},
     "output_type": "execute_result"
    }
   ],
   "source": [
    "datam.describe()"
   ]
  },
  {
   "cell_type": "code",
   "execution_count": 25,
   "metadata": {},
   "outputs": [
    {
     "name": "stdout",
     "output_type": "stream",
     "text": [
      "<class 'pandas.core.frame.DataFrame'>\n",
      "DatetimeIndex: 939 entries, 2021-01-04 to 2024-09-26\n",
      "Data columns (total 8 columns):\n",
      " #   Column        Non-Null Count  Dtype  \n",
      "---  ------        --------------  -----  \n",
      " 0   Open          939 non-null    float64\n",
      " 1   High          939 non-null    float64\n",
      " 2   Low           939 non-null    float64\n",
      " 3   Close         939 non-null    float64\n",
      " 4   Adj Close     939 non-null    float64\n",
      " 5   Volume        939 non-null    int64  \n",
      " 6   Dividends     939 non-null    float64\n",
      " 7   Stock_Splits  939 non-null    float64\n",
      "dtypes: float64(7), int64(1)\n",
      "memory usage: 66.0 KB\n",
      "<class 'pandas.core.frame.DataFrame'>\n",
      "DatetimeIndex: 1444 entries, 2019-01-02 to 2024-09-26\n",
      "Data columns (total 8 columns):\n",
      " #   Column        Non-Null Count  Dtype  \n",
      "---  ------        --------------  -----  \n",
      " 0   Open          1444 non-null   float64\n",
      " 1   High          1444 non-null   float64\n",
      " 2   Low           1444 non-null   float64\n",
      " 3   Close         1444 non-null   float64\n",
      " 4   Adj Close     1444 non-null   float64\n",
      " 5   Volume        1444 non-null   int64  \n",
      " 6   Dividends     1444 non-null   float64\n",
      " 7   Stock_Splits  1444 non-null   float64\n",
      "dtypes: float64(7), int64(1)\n",
      "memory usage: 101.5 KB\n"
     ]
    },
    {
     "data": {
      "text/plain": [
       "(None, None)"
      ]
     },
     "execution_count": 25,
     "metadata": {},
     "output_type": "execute_result"
    }
   ],
   "source": [
    "datam.info(),datag.info()\n",
    "# no nan values observed"
   ]
  },
  {
   "cell_type": "markdown",
   "metadata": {},
   "source": [
    "Closing Price<br>\n",
    "The closing price is the last price at which the stock is traded during the regular trading day. A stock’s closing price is the standard benchmark used by investors to track its performance over time.<br>\n",
    "Adjusted close<br>\n",
    "The adjusted closing price is a stock’s closing price that has been modified to account for any corporate actions that might affect its value. These adjustments provide a more accurate representation of a stock’s historical performance"
   ]
  },
  {
   "cell_type": "code",
   "execution_count": 26,
   "metadata": {},
   "outputs": [
    {
     "data": {
      "image/png": "[encoded data removed]",
      "text/plain": [
       "<Figure size 640x480 with 1 Axes>"
      ]
     },
     "metadata": {},
     "output_type": "display_data"
    }
   ],
   "source": [
    "import matplotlib.pyplot as plt\n",
    "plt.title('Google stock')\n",
    "plt.xlabel(\"Period\")\n",
    "plt.ylabel(\"Adj close\")\n",
    "plt.plot(datag['Adj Close'])\n",
    "plt.xticks(rotation=45)\n",
    "plt.show()"
   ]
  },
  {
   "cell_type": "markdown",
   "metadata": {},
   "source": [
    "Volume <br>\n",
    "In stock data, volume refers to the total number of shares or contracts traded for a particular security during a specific period, typically a single trading day.<br>\n",
    "Volume is an important indicator in technical analysis. Significant price movements accompanied by high volume are considered more reliable and indicative of strong market sentiment.<br>\n",
    "Trend Confirmation: Analysts use volume to confirm trends. For example, a rising stock price with increasing volume suggests a strong upward trend,<br> while a falling price with increasing volume indicates a strong downward trend"
   ]
  },
  {
   "cell_type": "code",
   "execution_count": 27,
   "metadata": {},
   "outputs": [
    {
     "data": {
      "image/png": "[encoded data removed]",
      "text/plain": [
       "<Figure size 640x480 with 1 Axes>"
      ]
     },
     "metadata": {},
     "output_type": "display_data"
    }
   ],
   "source": [
    "import matplotlib.pyplot as plt\n",
    "plt.title(\"Google stock\")\n",
    "plt.xlabel(\"Period\")\n",
    "plt.ylabel(\"Volume\")\n",
    "plt.plot(datag['Volume'])\n",
    "plt.xticks(rotation=45)\n",
    "plt.show()"
   ]
  },
  {
   "cell_type": "markdown",
   "metadata": {},
   "source": [
    "Daily Return <br>\n",
    "This gives you an idea of how much the stock’s value has increased or decreased in a single day. Monitoring daily returns can help investors understand the stock’s volatility and performance over time"
   ]
  },
  {
   "cell_type": "code",
   "execution_count": 28,
   "metadata": {},
   "outputs": [
    {
     "data": {
      "image/png": "[encoded data removed]",
      "text/plain": [
       "<Figure size 640x480 with 1 Axes>"
      ]
     },
     "metadata": {},
     "output_type": "display_data"
    }
   ],
   "source": [
    "datag['Daily Return'] = datag['Adj Close'].pct_change()\n",
    "datam['Daily Return'] = datam['Adj Close'].pct_change()\n",
    "plt.title(\"Google stock\")\n",
    "plt.xlabel(\"Period\")\n",
    "plt.ylabel(\"Daily return\")\n",
    "plt.plot(datag['Daily Return'])\n",
    "plt.xticks(rotation=45)\n",
    "plt.show()"
   ]
  },
  {
   "cell_type": "code",
   "execution_count": 29,
   "metadata": {},
   "outputs": [
    {
     "data": {
      "image/png": "[encoded data removed]",
      "text/plain": [
       "<Figure size 640x480 with 1 Axes>"
      ]
     },
     "metadata": {},
     "output_type": "display_data"
    }
   ],
   "source": [
    "plt.title(\"microsoft stock\")\n",
    "plt.xlabel(\"Period\")\n",
    "plt.ylabel(\"Daily return\")\n",
    "plt.plot(datam['Daily Return'])\n",
    "plt.xticks(rotation=45)\n",
    "plt.show()"
   ]
  },
  {
   "cell_type": "code",
   "execution_count": 30,
   "metadata": {},
   "outputs": [
    {
     "data": {
      "image/png": "[encoded data removed]",
      "text/plain": [
       "<Figure size 640x480 with 1 Axes>"
      ]
     },
     "metadata": {},
     "output_type": "display_data"
    }
   ],
   "source": [
    "plt.title('Google stock')\n",
    "plt.hist(datag['Daily Return'],bins=50)\n",
    "plt.xlabel(\"Daily return\")\n",
    "plt.ylabel('Count')\n",
    "plt.tight_layout()"
   ]
  },
  {
   "cell_type": "code",
   "execution_count": 31,
   "metadata": {},
   "outputs": [
    {
     "data": {
      "text/html": [
       "<div>\n",
       "<style scoped>\n",
       "    .dataframe tbody tr th:only-of-type {\n",
       "        vertical-align: middle;\n",
       "    }\n",
       "\n",
       "    .dataframe tbody tr th {\n",
       "        vertical-align: top;\n",
       "    }\n",
       "\n",
       "    .dataframe thead th {\n",
       "        text-align: right;\n",
       "    }\n",
       "</style>\n",
       "<table border=\"1\" class=\"dataframe\">\n",
       "  <thead>\n",
       "    <tr style=\"text-align: right;\">\n",
       "      <th></th>\n",
       "      <th>google</th>\n",
       "      <th>microsoft</th>\n",
       "    </tr>\n",
       "    <tr>\n",
       "      <th>Date</th>\n",
       "      <th></th>\n",
       "      <th></th>\n",
       "    </tr>\n",
       "  </thead>\n",
       "  <tbody>\n",
       "    <tr>\n",
       "      <th>2019-01-02</th>\n",
       "      <td>52.603748</td>\n",
       "      <td>NaN</td>\n",
       "    </tr>\n",
       "    <tr>\n",
       "      <th>2019-01-03</th>\n",
       "      <td>51.146851</td>\n",
       "      <td>NaN</td>\n",
       "    </tr>\n",
       "    <tr>\n",
       "      <th>2019-01-04</th>\n",
       "      <td>53.770355</td>\n",
       "      <td>NaN</td>\n",
       "    </tr>\n",
       "    <tr>\n",
       "      <th>2019-01-07</th>\n",
       "      <td>53.663124</td>\n",
       "      <td>NaN</td>\n",
       "    </tr>\n",
       "    <tr>\n",
       "      <th>2019-01-08</th>\n",
       "      <td>54.134457</td>\n",
       "      <td>NaN</td>\n",
       "    </tr>\n",
       "    <tr>\n",
       "      <th>...</th>\n",
       "      <td>...</td>\n",
       "      <td>...</td>\n",
       "    </tr>\n",
       "    <tr>\n",
       "      <th>2024-09-20</th>\n",
       "      <td>163.589996</td>\n",
       "      <td>435.269989</td>\n",
       "    </tr>\n",
       "    <tr>\n",
       "      <th>2024-09-23</th>\n",
       "      <td>161.850006</td>\n",
       "      <td>433.510010</td>\n",
       "    </tr>\n",
       "    <tr>\n",
       "      <th>2024-09-24</th>\n",
       "      <td>162.289993</td>\n",
       "      <td>429.170013</td>\n",
       "    </tr>\n",
       "    <tr>\n",
       "      <th>2024-09-25</th>\n",
       "      <td>161.490005</td>\n",
       "      <td>432.109985</td>\n",
       "    </tr>\n",
       "    <tr>\n",
       "      <th>2024-09-26</th>\n",
       "      <td>162.874893</td>\n",
       "      <td>430.130005</td>\n",
       "    </tr>\n",
       "  </tbody>\n",
       "</table>\n",
       "<p>1444 rows × 2 columns</p>\n",
       "</div>"
      ],
      "text/plain": [
       "                google   microsoft\n",
       "Date                              \n",
       "2019-01-02   52.603748         NaN\n",
       "2019-01-03   51.146851         NaN\n",
       "2019-01-04   53.770355         NaN\n",
       "2019-01-07   53.663124         NaN\n",
       "2019-01-08   54.134457         NaN\n",
       "...                ...         ...\n",
       "2024-09-20  163.589996  435.269989\n",
       "2024-09-23  161.850006  433.510010\n",
       "2024-09-24  162.289993  429.170013\n",
       "2024-09-25  161.490005  432.109985\n",
       "2024-09-26  162.874893  430.130005\n",
       "\n",
       "[1444 rows x 2 columns]"
      ]
     },
     "execution_count": 31,
     "metadata": {},
     "output_type": "execute_result"
    }
   ],
   "source": [
    "dataall=pd.DataFrame()\n",
    "dataall['google']=datag['Adj Close']\n",
    "dataall['microsoft']=datam['Adj Close']\n",
    "dataall"
   ]
  },
  {
   "cell_type": "code",
   "execution_count": 32,
   "metadata": {},
   "outputs": [
    {
     "data": {
      "text/plain": [
       "<Axes: >"
      ]
     },
     "execution_count": 32,
     "metadata": {},
     "output_type": "execute_result"
    },
    {
     "data": {
      "image/png": "[encoded data removed]",
      "text/plain": [
       "<Figure size 640x480 with 2 Axes>"
      ]
     },
     "metadata": {},
     "output_type": "display_data"
    }
   ],
   "source": [
    "import seaborn as sns \n",
    "sns.heatmap(dataall.corr(),annot=True)"
   ]
  },
  {
   "cell_type": "code",
   "execution_count": 33,
   "metadata": {},
   "outputs": [],
   "source": [
    "datam=datam.dropna()\n",
    "datag=datag.dropna()"
   ]
  },
  {
   "cell_type": "code",
   "execution_count": 34,
   "metadata": {},
   "outputs": [
    {
     "data": {
      "image/png": "[encoded data removed]",
      "text/plain": [
       "<Figure size 640x480 with 1 Axes>"
      ]
     },
     "metadata": {},
     "output_type": "display_data"
    }
   ],
   "source": [
    "plt.scatter(datag['Daily Return'].mean(),datag['Daily Return'].std())\n",
    "plt.title(\"google\")\n",
    "plt.xlabel(\"expected return\")\n",
    "plt.ylabel(\"risk\")\n",
    "plt.show()"
   ]
  },
  {
   "cell_type": "code",
   "execution_count": 35,
   "metadata": {},
   "outputs": [
    {
     "data": {
      "text/html": [
       "<div>\n",
       "<style scoped>\n",
       "    .dataframe tbody tr th:only-of-type {\n",
       "        vertical-align: middle;\n",
       "    }\n",
       "\n",
       "    .dataframe tbody tr th {\n",
       "        vertical-align: top;\n",
       "    }\n",
       "\n",
       "    .dataframe thead th {\n",
       "        text-align: right;\n",
       "    }\n",
       "</style>\n",
       "<table border=\"1\" class=\"dataframe\">\n",
       "  <thead>\n",
       "    <tr style=\"text-align: right;\">\n",
       "      <th></th>\n",
       "      <th>Open</th>\n",
       "      <th>High</th>\n",
       "      <th>Low</th>\n",
       "      <th>Close</th>\n",
       "      <th>Adj Close</th>\n",
       "      <th>Volume</th>\n",
       "      <th>Dividends</th>\n",
       "      <th>Stock_Splits</th>\n",
       "      <th>Daily Return</th>\n",
       "    </tr>\n",
       "    <tr>\n",
       "      <th>Date</th>\n",
       "      <th></th>\n",
       "      <th></th>\n",
       "      <th></th>\n",
       "      <th></th>\n",
       "      <th></th>\n",
       "      <th></th>\n",
       "      <th></th>\n",
       "      <th></th>\n",
       "      <th></th>\n",
       "    </tr>\n",
       "  </thead>\n",
       "  <tbody>\n",
       "    <tr>\n",
       "      <th>2019-01-03</th>\n",
       "      <td>52.533501</td>\n",
       "      <td>53.313000</td>\n",
       "      <td>51.118500</td>\n",
       "      <td>51.273499</td>\n",
       "      <td>51.146851</td>\n",
       "      <td>41960000</td>\n",
       "      <td>0.0</td>\n",
       "      <td>0.0</td>\n",
       "      <td>-0.027696</td>\n",
       "    </tr>\n",
       "    <tr>\n",
       "      <th>2019-01-04</th>\n",
       "      <td>52.127998</td>\n",
       "      <td>54.000000</td>\n",
       "      <td>51.842999</td>\n",
       "      <td>53.903500</td>\n",
       "      <td>53.770355</td>\n",
       "      <td>46022000</td>\n",
       "      <td>0.0</td>\n",
       "      <td>0.0</td>\n",
       "      <td>0.051294</td>\n",
       "    </tr>\n",
       "    <tr>\n",
       "      <th>2019-01-07</th>\n",
       "      <td>54.048500</td>\n",
       "      <td>54.134998</td>\n",
       "      <td>53.132000</td>\n",
       "      <td>53.796001</td>\n",
       "      <td>53.663124</td>\n",
       "      <td>47446000</td>\n",
       "      <td>0.0</td>\n",
       "      <td>0.0</td>\n",
       "      <td>-0.001994</td>\n",
       "    </tr>\n",
       "    <tr>\n",
       "      <th>2019-01-08</th>\n",
       "      <td>54.299999</td>\n",
       "      <td>54.667500</td>\n",
       "      <td>53.417500</td>\n",
       "      <td>54.268501</td>\n",
       "      <td>54.134457</td>\n",
       "      <td>35414000</td>\n",
       "      <td>0.0</td>\n",
       "      <td>0.0</td>\n",
       "      <td>0.008783</td>\n",
       "    </tr>\n",
       "    <tr>\n",
       "      <th>2019-01-09</th>\n",
       "      <td>54.399502</td>\n",
       "      <td>54.582001</td>\n",
       "      <td>53.718498</td>\n",
       "      <td>54.082500</td>\n",
       "      <td>53.948914</td>\n",
       "      <td>26998000</td>\n",
       "      <td>0.0</td>\n",
       "      <td>0.0</td>\n",
       "      <td>-0.003427</td>\n",
       "    </tr>\n",
       "    <tr>\n",
       "      <th>...</th>\n",
       "      <td>...</td>\n",
       "      <td>...</td>\n",
       "      <td>...</td>\n",
       "      <td>...</td>\n",
       "      <td>...</td>\n",
       "      <td>...</td>\n",
       "      <td>...</td>\n",
       "      <td>...</td>\n",
       "      <td>...</td>\n",
       "    </tr>\n",
       "    <tr>\n",
       "      <th>2024-09-20</th>\n",
       "      <td>163.500000</td>\n",
       "      <td>163.729996</td>\n",
       "      <td>162.059998</td>\n",
       "      <td>163.589996</td>\n",
       "      <td>163.589996</td>\n",
       "      <td>40896400</td>\n",
       "      <td>0.0</td>\n",
       "      <td>0.0</td>\n",
       "      <td>0.008943</td>\n",
       "    </tr>\n",
       "    <tr>\n",
       "      <th>2024-09-23</th>\n",
       "      <td>164.350006</td>\n",
       "      <td>165.490005</td>\n",
       "      <td>161.669998</td>\n",
       "      <td>161.850006</td>\n",
       "      <td>161.850006</td>\n",
       "      <td>24150900</td>\n",
       "      <td>0.0</td>\n",
       "      <td>0.0</td>\n",
       "      <td>-0.010636</td>\n",
       "    </tr>\n",
       "    <tr>\n",
       "      <th>2024-09-24</th>\n",
       "      <td>163.029999</td>\n",
       "      <td>163.220001</td>\n",
       "      <td>160.690002</td>\n",
       "      <td>162.289993</td>\n",
       "      <td>162.289993</td>\n",
       "      <td>23332100</td>\n",
       "      <td>0.0</td>\n",
       "      <td>0.0</td>\n",
       "      <td>0.002718</td>\n",
       "    </tr>\n",
       "    <tr>\n",
       "      <th>2024-09-25</th>\n",
       "      <td>161.470001</td>\n",
       "      <td>162.809998</td>\n",
       "      <td>161.300003</td>\n",
       "      <td>161.490005</td>\n",
       "      <td>161.490005</td>\n",
       "      <td>18838900</td>\n",
       "      <td>0.0</td>\n",
       "      <td>0.0</td>\n",
       "      <td>-0.004929</td>\n",
       "    </tr>\n",
       "    <tr>\n",
       "      <th>2024-09-26</th>\n",
       "      <td>163.759995</td>\n",
       "      <td>164.080002</td>\n",
       "      <td>162.339996</td>\n",
       "      <td>162.874893</td>\n",
       "      <td>162.874893</td>\n",
       "      <td>9350013</td>\n",
       "      <td>0.0</td>\n",
       "      <td>0.0</td>\n",
       "      <td>0.008576</td>\n",
       "    </tr>\n",
       "  </tbody>\n",
       "</table>\n",
       "<p>1443 rows × 9 columns</p>\n",
       "</div>"
      ],
      "text/plain": [
       "                  Open        High         Low       Close   Adj Close  \\\n",
       "Date                                                                     \n",
       "2019-01-03   52.533501   53.313000   51.118500   51.273499   51.146851   \n",
       "2019-01-04   52.127998   54.000000   51.842999   53.903500   53.770355   \n",
       "2019-01-07   54.048500   54.134998   53.132000   53.796001   53.663124   \n",
       "2019-01-08   54.299999   54.667500   53.417500   54.268501   54.134457   \n",
       "2019-01-09   54.399502   54.582001   53.718498   54.082500   53.948914   \n",
       "...                ...         ...         ...         ...         ...   \n",
       "2024-09-20  163.500000  163.729996  162.059998  163.589996  163.589996   \n",
       "2024-09-23  164.350006  165.490005  161.669998  161.850006  161.850006   \n",
       "2024-09-24  163.029999  163.220001  160.690002  162.289993  162.289993   \n",
       "2024-09-25  161.470001  162.809998  161.300003  161.490005  161.490005   \n",
       "2024-09-26  163.759995  164.080002  162.339996  162.874893  162.874893   \n",
       "\n",
       "              Volume  Dividends  Stock_Splits  Daily Return  \n",
       "Date                                                         \n",
       "2019-01-03  41960000        0.0           0.0     -0.027696  \n",
       "2019-01-04  46022000        0.0           0.0      0.051294  \n",
       "2019-01-07  47446000        0.0           0.0     -0.001994  \n",
       "2019-01-08  35414000        0.0           0.0      0.008783  \n",
       "2019-01-09  26998000        0.0           0.0     -0.003427  \n",
       "...              ...        ...           ...           ...  \n",
       "2024-09-20  40896400        0.0           0.0      0.008943  \n",
       "2024-09-23  24150900        0.0           0.0     -0.010636  \n",
       "2024-09-24  23332100        0.0           0.0      0.002718  \n",
       "2024-09-25  18838900        0.0           0.0     -0.004929  \n",
       "2024-09-26   9350013        0.0           0.0      0.008576  \n",
       "\n",
       "[1443 rows x 9 columns]"
      ]
     },
     "execution_count": 35,
     "metadata": {},
     "output_type": "execute_result"
    }
   ],
   "source": [
    "datag"
   ]
  },
  {
   "cell_type": "code",
   "execution_count": 36,
   "metadata": {},
   "outputs": [
    {
     "data": {
      "text/plain": [
       "<Axes: >"
      ]
     },
     "execution_count": 36,
     "metadata": {},
     "output_type": "execute_result"
    },
    {
     "data": {
      "image/png": "[encoded data removed]",
      "text/plain": [
       "<Figure size 640x480 with 2 Axes>"
      ]
     },
     "metadata": {},
     "output_type": "display_data"
    }
   ],
   "source": [
    "sns.heatmap(datag.corr(),annot=True)"
   ]
  },
  {
   "cell_type": "code",
   "execution_count": 37,
   "metadata": {},
   "outputs": [],
   "source": [
    "# As we see the open,high,low, close attrubutes are highly correlated, we will use feauture engineering\n",
    "# price range= high-low,price movement=close-open\n",
    "# And also lot of mulitcollinearity is also present between the initial variables "
   ]
  },
  {
   "cell_type": "code",
   "execution_count": 38,
   "metadata": {},
   "outputs": [
    {
     "data": {
      "text/plain": [
       "\"\\ndatagn=pd.DataFrame()\\ndatagn['price_range']=datag['High']-datag['Low']\\ndatagn['price_mov']=datag['Close']-datag['Open']\\ndatagn['Dividends']=datag['Dividends']\\ndatagn['Daily Returns']=datag['Daily Return']\\ndatagn['Stock Splits']=datag['Stock_Splits']\\ndatagn['Volume']=datag['Volume']\\n\""
      ]
     },
     "execution_count": 38,
     "metadata": {},
     "output_type": "execute_result"
    }
   ],
   "source": [
    "\"\"\"\n",
    "datagn=pd.DataFrame()\n",
    "datagn['price_range']=datag['High']-datag['Low']\n",
    "datagn['price_mov']=datag['Close']-datag['Open']\n",
    "datagn['Dividends']=datag['Dividends']\n",
    "datagn['Daily Returns']=datag['Daily Return']\n",
    "datagn['Stock Splits']=datag['Stock_Splits']\n",
    "datagn['Volume']=datag['Volume']\n",
    "\"\"\""
   ]
  },
  {
   "cell_type": "code",
   "execution_count": 39,
   "metadata": {},
   "outputs": [
    {
     "data": {
      "text/html": [
       "<div>\n",
       "<style scoped>\n",
       "    .dataframe tbody tr th:only-of-type {\n",
       "        vertical-align: middle;\n",
       "    }\n",
       "\n",
       "    .dataframe tbody tr th {\n",
       "        vertical-align: top;\n",
       "    }\n",
       "\n",
       "    .dataframe thead th {\n",
       "        text-align: right;\n",
       "    }\n",
       "</style>\n",
       "<table border=\"1\" class=\"dataframe\">\n",
       "  <thead>\n",
       "    <tr style=\"text-align: right;\">\n",
       "      <th></th>\n",
       "      <th>Open</th>\n",
       "      <th>High</th>\n",
       "      <th>Low</th>\n",
       "      <th>Close</th>\n",
       "      <th>Adj Close</th>\n",
       "      <th>Volume</th>\n",
       "      <th>Dividends</th>\n",
       "      <th>Stock_Splits</th>\n",
       "      <th>Daily Return</th>\n",
       "    </tr>\n",
       "    <tr>\n",
       "      <th>Date</th>\n",
       "      <th></th>\n",
       "      <th></th>\n",
       "      <th></th>\n",
       "      <th></th>\n",
       "      <th></th>\n",
       "      <th></th>\n",
       "      <th></th>\n",
       "      <th></th>\n",
       "      <th></th>\n",
       "    </tr>\n",
       "  </thead>\n",
       "  <tbody>\n",
       "    <tr>\n",
       "      <th>2019-01-03</th>\n",
       "      <td>52.533501</td>\n",
       "      <td>53.313000</td>\n",
       "      <td>51.118500</td>\n",
       "      <td>51.273499</td>\n",
       "      <td>51.146851</td>\n",
       "      <td>41960000</td>\n",
       "      <td>0.0</td>\n",
       "      <td>0.0</td>\n",
       "      <td>-0.027696</td>\n",
       "    </tr>\n",
       "    <tr>\n",
       "      <th>2019-01-04</th>\n",
       "      <td>52.127998</td>\n",
       "      <td>54.000000</td>\n",
       "      <td>51.842999</td>\n",
       "      <td>53.903500</td>\n",
       "      <td>53.770355</td>\n",
       "      <td>46022000</td>\n",
       "      <td>0.0</td>\n",
       "      <td>0.0</td>\n",
       "      <td>0.051294</td>\n",
       "    </tr>\n",
       "    <tr>\n",
       "      <th>2019-01-07</th>\n",
       "      <td>54.048500</td>\n",
       "      <td>54.134998</td>\n",
       "      <td>53.132000</td>\n",
       "      <td>53.796001</td>\n",
       "      <td>53.663124</td>\n",
       "      <td>47446000</td>\n",
       "      <td>0.0</td>\n",
       "      <td>0.0</td>\n",
       "      <td>-0.001994</td>\n",
       "    </tr>\n",
       "    <tr>\n",
       "      <th>2019-01-08</th>\n",
       "      <td>54.299999</td>\n",
       "      <td>54.667500</td>\n",
       "      <td>53.417500</td>\n",
       "      <td>54.268501</td>\n",
       "      <td>54.134457</td>\n",
       "      <td>35414000</td>\n",
       "      <td>0.0</td>\n",
       "      <td>0.0</td>\n",
       "      <td>0.008783</td>\n",
       "    </tr>\n",
       "    <tr>\n",
       "      <th>2019-01-09</th>\n",
       "      <td>54.399502</td>\n",
       "      <td>54.582001</td>\n",
       "      <td>53.718498</td>\n",
       "      <td>54.082500</td>\n",
       "      <td>53.948914</td>\n",
       "      <td>26998000</td>\n",
       "      <td>0.0</td>\n",
       "      <td>0.0</td>\n",
       "      <td>-0.003427</td>\n",
       "    </tr>\n",
       "    <tr>\n",
       "      <th>...</th>\n",
       "      <td>...</td>\n",
       "      <td>...</td>\n",
       "      <td>...</td>\n",
       "      <td>...</td>\n",
       "      <td>...</td>\n",
       "      <td>...</td>\n",
       "      <td>...</td>\n",
       "      <td>...</td>\n",
       "      <td>...</td>\n",
       "    </tr>\n",
       "    <tr>\n",
       "      <th>2024-09-20</th>\n",
       "      <td>163.500000</td>\n",
       "      <td>163.729996</td>\n",
       "      <td>162.059998</td>\n",
       "      <td>163.589996</td>\n",
       "      <td>163.589996</td>\n",
       "      <td>40896400</td>\n",
       "      <td>0.0</td>\n",
       "      <td>0.0</td>\n",
       "      <td>0.008943</td>\n",
       "    </tr>\n",
       "    <tr>\n",
       "      <th>2024-09-23</th>\n",
       "      <td>164.350006</td>\n",
       "      <td>165.490005</td>\n",
       "      <td>161.669998</td>\n",
       "      <td>161.850006</td>\n",
       "      <td>161.850006</td>\n",
       "      <td>24150900</td>\n",
       "      <td>0.0</td>\n",
       "      <td>0.0</td>\n",
       "      <td>-0.010636</td>\n",
       "    </tr>\n",
       "    <tr>\n",
       "      <th>2024-09-24</th>\n",
       "      <td>163.029999</td>\n",
       "      <td>163.220001</td>\n",
       "      <td>160.690002</td>\n",
       "      <td>162.289993</td>\n",
       "      <td>162.289993</td>\n",
       "      <td>23332100</td>\n",
       "      <td>0.0</td>\n",
       "      <td>0.0</td>\n",
       "      <td>0.002718</td>\n",
       "    </tr>\n",
       "    <tr>\n",
       "      <th>2024-09-25</th>\n",
       "      <td>161.470001</td>\n",
       "      <td>162.809998</td>\n",
       "      <td>161.300003</td>\n",
       "      <td>161.490005</td>\n",
       "      <td>161.490005</td>\n",
       "      <td>18838900</td>\n",
       "      <td>0.0</td>\n",
       "      <td>0.0</td>\n",
       "      <td>-0.004929</td>\n",
       "    </tr>\n",
       "    <tr>\n",
       "      <th>2024-09-26</th>\n",
       "      <td>163.759995</td>\n",
       "      <td>164.080002</td>\n",
       "      <td>162.339996</td>\n",
       "      <td>162.874893</td>\n",
       "      <td>162.874893</td>\n",
       "      <td>9350013</td>\n",
       "      <td>0.0</td>\n",
       "      <td>0.0</td>\n",
       "      <td>0.008576</td>\n",
       "    </tr>\n",
       "  </tbody>\n",
       "</table>\n",
       "<p>1443 rows × 9 columns</p>\n",
       "</div>"
      ],
      "text/plain": [
       "                  Open        High         Low       Close   Adj Close  \\\n",
       "Date                                                                     \n",
       "2019-01-03   52.533501   53.313000   51.118500   51.273499   51.146851   \n",
       "2019-01-04   52.127998   54.000000   51.842999   53.903500   53.770355   \n",
       "2019-01-07   54.048500   54.134998   53.132000   53.796001   53.663124   \n",
       "2019-01-08   54.299999   54.667500   53.417500   54.268501   54.134457   \n",
       "2019-01-09   54.399502   54.582001   53.718498   54.082500   53.948914   \n",
       "...                ...         ...         ...         ...         ...   \n",
       "2024-09-20  163.500000  163.729996  162.059998  163.589996  163.589996   \n",
       "2024-09-23  164.350006  165.490005  161.669998  161.850006  161.850006   \n",
       "2024-09-24  163.029999  163.220001  160.690002  162.289993  162.289993   \n",
       "2024-09-25  161.470001  162.809998  161.300003  161.490005  161.490005   \n",
       "2024-09-26  163.759995  164.080002  162.339996  162.874893  162.874893   \n",
       "\n",
       "              Volume  Dividends  Stock_Splits  Daily Return  \n",
       "Date                                                         \n",
       "2019-01-03  41960000        0.0           0.0     -0.027696  \n",
       "2019-01-04  46022000        0.0           0.0      0.051294  \n",
       "2019-01-07  47446000        0.0           0.0     -0.001994  \n",
       "2019-01-08  35414000        0.0           0.0      0.008783  \n",
       "2019-01-09  26998000        0.0           0.0     -0.003427  \n",
       "...              ...        ...           ...           ...  \n",
       "2024-09-20  40896400        0.0           0.0      0.008943  \n",
       "2024-09-23  24150900        0.0           0.0     -0.010636  \n",
       "2024-09-24  23332100        0.0           0.0      0.002718  \n",
       "2024-09-25  18838900        0.0           0.0     -0.004929  \n",
       "2024-09-26   9350013        0.0           0.0      0.008576  \n",
       "\n",
       "[1443 rows x 9 columns]"
      ]
     },
     "execution_count": 39,
     "metadata": {},
     "output_type": "execute_result"
    }
   ],
   "source": [
    "datag"
   ]
  },
  {
   "cell_type": "code",
   "execution_count": 40,
   "metadata": {},
   "outputs": [
    {
     "data": {
      "text/plain": [
       "[<matplotlib.lines.Line2D at 0x22ae2ad30d0>]"
      ]
     },
     "execution_count": 40,
     "metadata": {},
     "output_type": "execute_result"
    },
    {
     "data": {
      "image/png": "[encoded data removed]",
      "text/plain": [
       "<Figure size 640x480 with 1 Axes>"
      ]
     },
     "metadata": {},
     "output_type": "display_data"
    }
   ],
   "source": [
    "plt.plot(datag['Adj Close'])"
   ]
  },
  {
   "cell_type": "markdown",
   "metadata": {},
   "source": [
    "Volatility<br>\n",
    "Volatility is a key factor in risk management. High volatility signals a higher risk but also potentially higher reward, while low volatility suggests more price stability. In stock prediction models, including volatility helps account for price risk and large fluctuations that could affect future stock prices. <br>\n",
    "-> MA_10 is moving average of 10 days <br>\n",
    "-> Daily return is how much percentage stock changed in a day <br>\n",
    "-> volatility is variance of stock values for certain time period"
   ]
  },
  {
   "cell_type": "code",
   "execution_count": 41,
   "metadata": {},
   "outputs": [],
   "source": [
    "datagn = pd.DataFrame()\n",
    "datagn['MA_10'] = datag['Adj Close'].rolling(window=10).mean()\n",
    "datagn['Volatility'] = datag['Adj Close'].rolling(window=10).std()\n",
    "datagn['Daily Return']=datag['Daily Return']\n",
    "datagn['Volume Change'] = datag['Volume'].rolling(window=10).mean()\n",
    "\n",
    "def calculate_rsi(data, period):\n",
    "    delta = data['Adj Close'].diff(1)\n",
    "    gain = (delta.where(delta > 0, 0)).rolling(window=period).mean()\n",
    "    loss = (-delta.where(delta < 0, 0)).rolling(window=period).mean()\n",
    "    rs = gain / loss\n",
    "    rsi = 100 - (100 / (1 + rs))\n",
    "    return rsi\n",
    "period =20\n",
    "datagn['RSI'] = calculate_rsi(datag,period)\n",
    "datagn['Adj Close']=datag['Adj Close']"
   ]
  },
  {
   "cell_type": "code",
   "execution_count": 42,
   "metadata": {},
   "outputs": [
    {
     "data": {
      "text/html": [
       "<div>\n",
       "<style scoped>\n",
       "    .dataframe tbody tr th:only-of-type {\n",
       "        vertical-align: middle;\n",
       "    }\n",
       "\n",
       "    .dataframe tbody tr th {\n",
       "        vertical-align: top;\n",
       "    }\n",
       "\n",
       "    .dataframe thead th {\n",
       "        text-align: right;\n",
       "    }\n",
       "</style>\n",
       "<table border=\"1\" class=\"dataframe\">\n",
       "  <thead>\n",
       "    <tr style=\"text-align: right;\">\n",
       "      <th></th>\n",
       "      <th>MA_10</th>\n",
       "      <th>Volatility</th>\n",
       "      <th>Daily Return</th>\n",
       "      <th>Volume Change</th>\n",
       "      <th>RSI</th>\n",
       "      <th>Adj Close</th>\n",
       "    </tr>\n",
       "    <tr>\n",
       "      <th>Date</th>\n",
       "      <th></th>\n",
       "      <th></th>\n",
       "      <th></th>\n",
       "      <th></th>\n",
       "      <th></th>\n",
       "      <th></th>\n",
       "    </tr>\n",
       "  </thead>\n",
       "  <tbody>\n",
       "    <tr>\n",
       "      <th>2019-01-03</th>\n",
       "      <td>NaN</td>\n",
       "      <td>NaN</td>\n",
       "      <td>-0.027696</td>\n",
       "      <td>NaN</td>\n",
       "      <td>NaN</td>\n",
       "      <td>51.146851</td>\n",
       "    </tr>\n",
       "    <tr>\n",
       "      <th>2019-01-04</th>\n",
       "      <td>NaN</td>\n",
       "      <td>NaN</td>\n",
       "      <td>0.051294</td>\n",
       "      <td>NaN</td>\n",
       "      <td>NaN</td>\n",
       "      <td>53.770355</td>\n",
       "    </tr>\n",
       "    <tr>\n",
       "      <th>2019-01-07</th>\n",
       "      <td>NaN</td>\n",
       "      <td>NaN</td>\n",
       "      <td>-0.001994</td>\n",
       "      <td>NaN</td>\n",
       "      <td>NaN</td>\n",
       "      <td>53.663124</td>\n",
       "    </tr>\n",
       "    <tr>\n",
       "      <th>2019-01-08</th>\n",
       "      <td>NaN</td>\n",
       "      <td>NaN</td>\n",
       "      <td>0.008783</td>\n",
       "      <td>NaN</td>\n",
       "      <td>NaN</td>\n",
       "      <td>54.134457</td>\n",
       "    </tr>\n",
       "    <tr>\n",
       "      <th>2019-01-09</th>\n",
       "      <td>NaN</td>\n",
       "      <td>NaN</td>\n",
       "      <td>-0.003427</td>\n",
       "      <td>NaN</td>\n",
       "      <td>NaN</td>\n",
       "      <td>53.948914</td>\n",
       "    </tr>\n",
       "  </tbody>\n",
       "</table>\n",
       "</div>"
      ],
      "text/plain": [
       "            MA_10  Volatility  Daily Return  Volume Change  RSI  Adj Close\n",
       "Date                                                                      \n",
       "2019-01-03    NaN         NaN     -0.027696            NaN  NaN  51.146851\n",
       "2019-01-04    NaN         NaN      0.051294            NaN  NaN  53.770355\n",
       "2019-01-07    NaN         NaN     -0.001994            NaN  NaN  53.663124\n",
       "2019-01-08    NaN         NaN      0.008783            NaN  NaN  54.134457\n",
       "2019-01-09    NaN         NaN     -0.003427            NaN  NaN  53.948914"
      ]
     },
     "execution_count": 42,
     "metadata": {},
     "output_type": "execute_result"
    }
   ],
   "source": [
    "datagn.head(5)"
   ]
  },
  {
   "cell_type": "code",
   "execution_count": 43,
   "metadata": {},
   "outputs": [],
   "source": [
    "datagn= datagn.dropna()"
   ]
  },
  {
   "cell_type": "code",
   "execution_count": 44,
   "metadata": {},
   "outputs": [
    {
     "data": {
      "text/html": [
       "<div>\n",
       "<style scoped>\n",
       "    .dataframe tbody tr th:only-of-type {\n",
       "        vertical-align: middle;\n",
       "    }\n",
       "\n",
       "    .dataframe tbody tr th {\n",
       "        vertical-align: top;\n",
       "    }\n",
       "\n",
       "    .dataframe thead th {\n",
       "        text-align: right;\n",
       "    }\n",
       "</style>\n",
       "<table border=\"1\" class=\"dataframe\">\n",
       "  <thead>\n",
       "    <tr style=\"text-align: right;\">\n",
       "      <th></th>\n",
       "      <th>MA_10</th>\n",
       "      <th>Volatility</th>\n",
       "      <th>Daily Return</th>\n",
       "      <th>Volume Change</th>\n",
       "      <th>RSI</th>\n",
       "      <th>Adj Close</th>\n",
       "    </tr>\n",
       "    <tr>\n",
       "      <th>Date</th>\n",
       "      <th></th>\n",
       "      <th></th>\n",
       "      <th></th>\n",
       "      <th></th>\n",
       "      <th></th>\n",
       "      <th></th>\n",
       "    </tr>\n",
       "  </thead>\n",
       "  <tbody>\n",
       "    <tr>\n",
       "      <th>2019-01-31</th>\n",
       "      <td>54.508878</td>\n",
       "      <td>0.828119</td>\n",
       "      <td>0.025410</td>\n",
       "      <td>30571000.0</td>\n",
       "      <td>67.107331</td>\n",
       "      <td>56.155449</td>\n",
       "    </tr>\n",
       "    <tr>\n",
       "      <th>2019-02-01</th>\n",
       "      <td>54.606136</td>\n",
       "      <td>0.920692</td>\n",
       "      <td>-0.006457</td>\n",
       "      <td>31393000.0</td>\n",
       "      <td>65.485260</td>\n",
       "      <td>55.792847</td>\n",
       "    </tr>\n",
       "    <tr>\n",
       "      <th>2019-02-04</th>\n",
       "      <td>54.776315</td>\n",
       "      <td>1.171557</td>\n",
       "      <td>0.020382</td>\n",
       "      <td>34744600.0</td>\n",
       "      <td>61.689488</td>\n",
       "      <td>56.930031</td>\n",
       "    </tr>\n",
       "    <tr>\n",
       "      <th>2019-02-05</th>\n",
       "      <td>55.141610</td>\n",
       "      <td>1.383120</td>\n",
       "      <td>0.009155</td>\n",
       "      <td>39011000.0</td>\n",
       "      <td>63.597940</td>\n",
       "      <td>57.451241</td>\n",
       "    </tr>\n",
       "    <tr>\n",
       "      <th>2019-02-06</th>\n",
       "      <td>55.333535</td>\n",
       "      <td>1.353292</td>\n",
       "      <td>-0.025159</td>\n",
       "      <td>41317200.0</td>\n",
       "      <td>56.278443</td>\n",
       "      <td>56.005821</td>\n",
       "    </tr>\n",
       "  </tbody>\n",
       "</table>\n",
       "</div>"
      ],
      "text/plain": [
       "                MA_10  Volatility  Daily Return  Volume Change        RSI  \\\n",
       "Date                                                                        \n",
       "2019-01-31  54.508878    0.828119      0.025410     30571000.0  67.107331   \n",
       "2019-02-01  54.606136    0.920692     -0.006457     31393000.0  65.485260   \n",
       "2019-02-04  54.776315    1.171557      0.020382     34744600.0  61.689488   \n",
       "2019-02-05  55.141610    1.383120      0.009155     39011000.0  63.597940   \n",
       "2019-02-06  55.333535    1.353292     -0.025159     41317200.0  56.278443   \n",
       "\n",
       "            Adj Close  \n",
       "Date                   \n",
       "2019-01-31  56.155449  \n",
       "2019-02-01  55.792847  \n",
       "2019-02-04  56.930031  \n",
       "2019-02-05  57.451241  \n",
       "2019-02-06  56.005821  "
      ]
     },
     "execution_count": 44,
     "metadata": {},
     "output_type": "execute_result"
    }
   ],
   "source": [
    "datagn.head()"
   ]
  },
  {
   "cell_type": "markdown",
   "metadata": {},
   "source": [
    "Correlation analysis <br>\n",
    "->The variables which have very less collinearity with target variable may not contribute much to the prediction  <br>\n",
    "->Although we use non-linear models, it's better to have some moderate or good correlation <br>\n",
    "->But Even if the correlation is weak, some features (like RSI or moving averages) might still be useful for non-linear models like LSTM or other neural networks."
   ]
  },
  {
   "cell_type": "code",
   "execution_count": 45,
   "metadata": {},
   "outputs": [
    {
     "data": {
      "text/plain": [
       "<Axes: >"
      ]
     },
     "execution_count": 45,
     "metadata": {},
     "output_type": "execute_result"
    },
    {
     "data": {
      "image/png": "[encoded data removed]",
      "text/plain": [
       "<Figure size 640x480 with 2 Axes>"
      ]
     },
     "metadata": {},
     "output_type": "display_data"
    }
   ],
   "source": [
    "sns.heatmap(datagn.corr(),annot=True)"
   ]
  },
  {
   "cell_type": "markdown",
   "metadata": {},
   "source": [
    "Scaling the data <br>\n",
    "As lstm is sensitive to the scaling"
   ]
  },
  {
   "cell_type": "code",
   "execution_count": 46,
   "metadata": {},
   "outputs": [
    {
     "data": {
      "text/html": [
       "<div>\n",
       "<style scoped>\n",
       "    .dataframe tbody tr th:only-of-type {\n",
       "        vertical-align: middle;\n",
       "    }\n",
       "\n",
       "    .dataframe tbody tr th {\n",
       "        vertical-align: top;\n",
       "    }\n",
       "\n",
       "    .dataframe thead th {\n",
       "        text-align: right;\n",
       "    }\n",
       "</style>\n",
       "<table border=\"1\" class=\"dataframe\">\n",
       "  <thead>\n",
       "    <tr style=\"text-align: right;\">\n",
       "      <th></th>\n",
       "      <th>MA_10</th>\n",
       "      <th>Volatility</th>\n",
       "      <th>Daily Return</th>\n",
       "      <th>Volume Change</th>\n",
       "      <th>RSI</th>\n",
       "      <th>Adj Close</th>\n",
       "    </tr>\n",
       "    <tr>\n",
       "      <th>Date</th>\n",
       "      <th></th>\n",
       "      <th></th>\n",
       "      <th></th>\n",
       "      <th></th>\n",
       "      <th></th>\n",
       "      <th></th>\n",
       "    </tr>\n",
       "  </thead>\n",
       "  <tbody>\n",
       "    <tr>\n",
       "      <th>2019-01-31</th>\n",
       "      <td>0.009496</td>\n",
       "      <td>0.078969</td>\n",
       "      <td>0.025410</td>\n",
       "      <td>0.185596</td>\n",
       "      <td>0.738834</td>\n",
       "      <td>0.031245</td>\n",
       "    </tr>\n",
       "    <tr>\n",
       "      <th>2019-02-01</th>\n",
       "      <td>0.010223</td>\n",
       "      <td>0.091925</td>\n",
       "      <td>-0.006457</td>\n",
       "      <td>0.197897</td>\n",
       "      <td>0.714428</td>\n",
       "      <td>0.028639</td>\n",
       "    </tr>\n",
       "    <tr>\n",
       "      <th>2019-02-04</th>\n",
       "      <td>0.011496</td>\n",
       "      <td>0.127036</td>\n",
       "      <td>0.020382</td>\n",
       "      <td>0.248056</td>\n",
       "      <td>0.657318</td>\n",
       "      <td>0.036813</td>\n",
       "    </tr>\n",
       "    <tr>\n",
       "      <th>2019-02-05</th>\n",
       "      <td>0.014228</td>\n",
       "      <td>0.156645</td>\n",
       "      <td>0.009155</td>\n",
       "      <td>0.311906</td>\n",
       "      <td>0.686032</td>\n",
       "      <td>0.040559</td>\n",
       "    </tr>\n",
       "    <tr>\n",
       "      <th>2019-02-06</th>\n",
       "      <td>0.015663</td>\n",
       "      <td>0.152470</td>\n",
       "      <td>-0.025159</td>\n",
       "      <td>0.346420</td>\n",
       "      <td>0.575905</td>\n",
       "      <td>0.030169</td>\n",
       "    </tr>\n",
       "    <tr>\n",
       "      <th>...</th>\n",
       "      <td>...</td>\n",
       "      <td>...</td>\n",
       "      <td>...</td>\n",
       "      <td>...</td>\n",
       "      <td>...</td>\n",
       "      <td>...</td>\n",
       "    </tr>\n",
       "    <tr>\n",
       "      <th>2024-09-20</th>\n",
       "      <td>0.771246</td>\n",
       "      <td>0.712537</td>\n",
       "      <td>0.008943</td>\n",
       "      <td>0.161381</td>\n",
       "      <td>0.481576</td>\n",
       "      <td>0.803500</td>\n",
       "    </tr>\n",
       "    <tr>\n",
       "      <th>2024-09-23</th>\n",
       "      <td>0.781074</td>\n",
       "      <td>0.643035</td>\n",
       "      <td>-0.010636</td>\n",
       "      <td>0.138768</td>\n",
       "      <td>0.413413</td>\n",
       "      <td>0.790993</td>\n",
       "    </tr>\n",
       "    <tr>\n",
       "      <th>2024-09-24</th>\n",
       "      <td>0.791268</td>\n",
       "      <td>0.502936</td>\n",
       "      <td>0.002718</td>\n",
       "      <td>0.127115</td>\n",
       "      <td>0.411332</td>\n",
       "      <td>0.794156</td>\n",
       "    </tr>\n",
       "    <tr>\n",
       "      <th>2024-09-25</th>\n",
       "      <td>0.798993</td>\n",
       "      <td>0.345545</td>\n",
       "      <td>-0.004929</td>\n",
       "      <td>0.110999</td>\n",
       "      <td>0.423351</td>\n",
       "      <td>0.788405</td>\n",
       "    </tr>\n",
       "    <tr>\n",
       "      <th>2024-09-26</th>\n",
       "      <td>0.805115</td>\n",
       "      <td>0.256046</td>\n",
       "      <td>0.008576</td>\n",
       "      <td>0.080551</td>\n",
       "      <td>0.486201</td>\n",
       "      <td>0.798360</td>\n",
       "    </tr>\n",
       "  </tbody>\n",
       "</table>\n",
       "<p>1424 rows × 6 columns</p>\n",
       "</div>"
      ],
      "text/plain": [
       "               MA_10  Volatility  Daily Return  Volume Change       RSI  \\\n",
       "Date                                                                      \n",
       "2019-01-31  0.009496    0.078969      0.025410       0.185596  0.738834   \n",
       "2019-02-01  0.010223    0.091925     -0.006457       0.197897  0.714428   \n",
       "2019-02-04  0.011496    0.127036      0.020382       0.248056  0.657318   \n",
       "2019-02-05  0.014228    0.156645      0.009155       0.311906  0.686032   \n",
       "2019-02-06  0.015663    0.152470     -0.025159       0.346420  0.575905   \n",
       "...              ...         ...           ...            ...       ...   \n",
       "2024-09-20  0.771246    0.712537      0.008943       0.161381  0.481576   \n",
       "2024-09-23  0.781074    0.643035     -0.010636       0.138768  0.413413   \n",
       "2024-09-24  0.791268    0.502936      0.002718       0.127115  0.411332   \n",
       "2024-09-25  0.798993    0.345545     -0.004929       0.110999  0.423351   \n",
       "2024-09-26  0.805115    0.256046      0.008576       0.080551  0.486201   \n",
       "\n",
       "            Adj Close  \n",
       "Date                   \n",
       "2019-01-31   0.031245  \n",
       "2019-02-01   0.028639  \n",
       "2019-02-04   0.036813  \n",
       "2019-02-05   0.040559  \n",
       "2019-02-06   0.030169  \n",
       "...               ...  \n",
       "2024-09-20   0.803500  \n",
       "2024-09-23   0.790993  \n",
       "2024-09-24   0.794156  \n",
       "2024-09-25   0.788405  \n",
       "2024-09-26   0.798360  \n",
       "\n",
       "[1424 rows x 6 columns]"
      ]
     },
     "execution_count": 46,
     "metadata": {},
     "output_type": "execute_result"
    }
   ],
   "source": [
    "# normalizing the data\n",
    "from sklearn.preprocessing import MinMaxScaler\n",
    "scaler1 = MinMaxScaler(feature_range=(0,1))\n",
    "datagn['MA_10'] = scaler1.fit_transform(datagn['MA_10'].values.reshape(-1,1))\n",
    "scaler2 = MinMaxScaler(feature_range=(0,1))\n",
    "datagn['Adj Close'] = scaler2.fit_transform(datagn['Adj Close'].values.reshape(-1,1))\n",
    "scaler3 = MinMaxScaler(feature_range=(0,1))\n",
    "datagn['Volatility']=scaler3.fit_transform(datagn['Volatility'].values.reshape(-1,1))\n",
    "scaler4 = MinMaxScaler(feature_range=(0,1))\n",
    "datagn['RSI'] = scaler4.fit_transform(datagn['RSI'].values.reshape(-1,1))\n",
    "scaler5 = MinMaxScaler(feature_range=(0,1))\n",
    "datagn['Volume Change'] = scaler5.fit_transform(datagn['Volume Change'].values.reshape(-1,1)) \n",
    "datagn"
   ]
  },
  {
   "cell_type": "code",
   "execution_count": 47,
   "metadata": {},
   "outputs": [],
   "source": [
    "# we can use regularization techniques or dropout to mitigate the multicollinearity if present in the data"
   ]
  },
  {
   "cell_type": "markdown",
   "metadata": {},
   "source": [
    "train and test data"
   ]
  },
  {
   "cell_type": "code",
   "execution_count": 48,
   "metadata": {},
   "outputs": [
    {
     "data": {
      "text/plain": [
       "(955, 469)"
      ]
     },
     "execution_count": 48,
     "metadata": {},
     "output_type": "execute_result"
    }
   ],
   "source": [
    "# dividing the data into train and test\n",
    "train_data_len = int(np.ceil(len(datagn)*0.67))\n",
    "test_data_len= len(datagn)-train_data_len\n",
    "train_data_len,test_data_len"
   ]
  },
  {
   "cell_type": "code",
   "execution_count": 49,
   "metadata": {},
   "outputs": [],
   "source": [
    "train_data = datagn[:train_data_len]\n",
    "test_data = datagn[train_data_len:len(datagn)]"
   ]
  },
  {
   "cell_type": "code",
   "execution_count": 50,
   "metadata": {},
   "outputs": [
    {
     "data": {
      "text/plain": [
       "(955, 469)"
      ]
     },
     "execution_count": 50,
     "metadata": {},
     "output_type": "execute_result"
    }
   ],
   "source": [
    "len(train_data),len(test_data)"
   ]
  },
  {
   "cell_type": "code",
   "execution_count": 51,
   "metadata": {},
   "outputs": [],
   "source": [
    "train_data= train_data.values\n",
    "test_data= test_data.values"
   ]
  },
  {
   "cell_type": "markdown",
   "metadata": {},
   "source": [
    "Creating time series data"
   ]
  },
  {
   "cell_type": "code",
   "execution_count": 110,
   "metadata": {},
   "outputs": [
    {
     "data": {
      "text/plain": [
       "'WE can experiment with different window size to find which one gives best results for the data'"
      ]
     },
     "execution_count": 110,
     "metadata": {},
     "output_type": "execute_result"
    }
   ],
   "source": [
    "def timeseries(data,timestamps,pred_days):\n",
    "    datax,datay=[],[]\n",
    "    for i in range(len(data)-timestamps-pred_days):\n",
    "        a= data[i:(i+timestamps),:]\n",
    "        b= data[(i+timestamps):i+timestamps+pred_days,-1]\n",
    "        datax.append(a)\n",
    "        datay.append(b)\n",
    "    return np.array(datax), np.array(datay) \n",
    "timestamps=80\n",
    "pred_days=3\n",
    "x_train,y_train = timeseries(train_data,timestamps,pred_days) \n",
    "x_test,y_test=timeseries(test_data,timestamps,pred_days)\n",
    "\n",
    "\"\"\"WE can experiment with different window size to find which one gives best results for the data\"\"\""
   ]
  },
  {
   "cell_type": "code",
   "execution_count": 111,
   "metadata": {},
   "outputs": [
    {
     "name": "stdout",
     "output_type": "stream",
     "text": [
      "(872, 80, 6) (872, 3)\n",
      "(386, 80, 6) (386, 3)\n"
     ]
    }
   ],
   "source": [
    "print(x_train.shape,y_train.shape)\n",
    "print(x_test.shape,y_test.shape)"
   ]
  },
  {
   "cell_type": "code",
   "execution_count": 112,
   "metadata": {},
   "outputs": [],
   "source": [
    "# reshape x_train and y_test\n",
    "#x_train = x_train.reshape(x_train.shape[0],x_train.shape[1],1)\n",
    "#x_test = x_test.reshape(x_test.shape[0],x_test.shape[1],1)"
   ]
  },
  {
   "cell_type": "code",
   "execution_count": 113,
   "metadata": {},
   "outputs": [
    {
     "name": "stdout",
     "output_type": "stream",
     "text": [
      "(872, 80, 6) (872, 3)\n",
      "(386, 80, 6) (386, 3)\n"
     ]
    }
   ],
   "source": [
    "print(x_train.shape,y_train.shape)\n",
    "print(x_test.shape,y_test.shape)"
   ]
  },
  {
   "cell_type": "code",
   "execution_count": 114,
   "metadata": {},
   "outputs": [
    {
     "data": {
      "text/plain": [
       "\"\\nfrom tensorflow.keras.models import Sequential\\nfrom tensorflow.keras.layers import LSTM, Dense, Dropout\\nfrom tensorflow.keras.regularizers import l2\\nfrom tensorflow.keras.optimizers import Adam\\n\\nmodel = Sequential()\\nmodel.add(LSTM(127, return_sequences=True, input_shape=(x_train.shape[1],x_train.shape[2])))\\nmodel.add(Dropout(0.2))\\n\\nmodel.add(LSTM(70, return_sequences=True)) \\nmodel.add(Dropout(0.2))\\n\\nmodel.add(LSTM(60, return_sequences=False)) \\nmodel.add(Dropout(0.3))\\n\\nmodel.add(Dense(20,activation='relu'))\\nmodel.add(Dropout(0.3))\\n\\nmodel.add(Dense(1))\\nmodel.compile(optimizer=Adam(learning_rate=1e-3), loss='mean_squared_error') \\n\\n# clipvalue=1.0\\n# gradient clipping to cap the gradients at a maximum value,to prevent gradient exploding\\n# high learning rate in optimizer could superpass the mininma and fluctuate b/w top and bottom\\n\""
      ]
     },
     "execution_count": 114,
     "metadata": {},
     "output_type": "execute_result"
    }
   ],
   "source": [
    "\"\"\"\n",
    "from tensorflow.keras.models import Sequential\n",
    "from tensorflow.keras.layers import LSTM, Dense, Dropout\n",
    "from tensorflow.keras.regularizers import l2\n",
    "from tensorflow.keras.optimizers import Adam\n",
    "\n",
    "model = Sequential()\n",
    "model.add(LSTM(127, return_sequences=True, input_shape=(x_train.shape[1],x_train.shape[2])))\n",
    "model.add(Dropout(0.2))\n",
    "\n",
    "model.add(LSTM(70, return_sequences=True)) \n",
    "model.add(Dropout(0.2))\n",
    "\n",
    "model.add(LSTM(60, return_sequences=False)) \n",
    "model.add(Dropout(0.3))\n",
    "\n",
    "model.add(Dense(20,activation='relu'))\n",
    "model.add(Dropout(0.3))\n",
    "\n",
    "model.add(Dense(1))\n",
    "model.compile(optimizer=Adam(learning_rate=1e-3), loss='mean_squared_error') \n",
    "\n",
    "# clipvalue=1.0\n",
    "# gradient clipping to cap the gradients at a maximum value,to prevent gradient exploding\n",
    "# high learning rate in optimizer could superpass the mininma and fluctuate b/w top and bottom\n",
    "\"\"\""
   ]
  },
  {
   "cell_type": "code",
   "execution_count": 115,
   "metadata": {},
   "outputs": [
    {
     "data": {
      "text/plain": [
       "872"
      ]
     },
     "execution_count": 115,
     "metadata": {},
     "output_type": "execute_result"
    }
   ],
   "source": [
    "len(x_train)"
   ]
  },
  {
   "cell_type": "code",
   "execution_count": 116,
   "metadata": {},
   "outputs": [
    {
     "data": {
      "text/plain": [
       "(80, 6)"
      ]
     },
     "execution_count": 116,
     "metadata": {},
     "output_type": "execute_result"
    }
   ],
   "source": [
    "x_train.shape[1],x_train.shape[2]"
   ]
  },
  {
   "cell_type": "code",
   "execution_count": 135,
   "metadata": {},
   "outputs": [],
   "source": [
    "from tensorflow.keras.models import Sequential\n",
    "from tensorflow.keras.layers import LSTM, Dense, Dropout\n",
    "from tensorflow.keras.regularizers import l2\n",
    "from tensorflow.keras.optimizers import Adam\n",
    "\n",
    "model = Sequential()\n",
    "model.add(LSTM(130, return_sequences=True, input_shape=(x_train.shape[1],x_train.shape[2])))\n",
    "\n",
    "model.add(LSTM(90, return_sequences=True)) \n",
    "\n",
    "model.add(LSTM(80, return_sequences=False)) \n",
    "\n",
    "model.add(Dense(70,activation='relu'))   \n",
    "model.add(Dropout(0.3))\n",
    "\n",
    "model.add(Dense(pred_days))\n",
    "model.compile(optimizer=Adam(learning_rate=1e-3), loss='mean_squared_error') \n",
    "\n",
    "#kernel_regularizer=l2(0.01) # kernel learning rate, more the rate more the penalty \n",
    "# we can avoid kernel regulizer in the initial layer to give the model a chance to learn from the data\n",
    "# we can also do the same with dropout layers too  "
   ]
  },
  {
   "cell_type": "code",
   "execution_count": 136,
   "metadata": {},
   "outputs": [
    {
     "name": "stdout",
     "output_type": "stream",
     "text": [
      "Epoch 1/100\n",
      "\u001b[1m88/88\u001b[0m \u001b[32m━━━━━━━━━━━━━━━━━━━━\u001b[0m\u001b[37m\u001b[0m \u001b[1m0s\u001b[0m 68ms/step - loss: 0.0375\n",
      "Epoch 1: val_loss improved from inf to 0.01582, saving model to modelt.keras\n",
      "\u001b[1m88/88\u001b[0m \u001b[32m━━━━━━━━━━━━━━━━━━━━\u001b[0m\u001b[37m\u001b[0m \u001b[1m15s\u001b[0m 88ms/step - loss: 0.0373 - val_loss: 0.0158\n",
      "Epoch 2/100\n",
      "\u001b[1m88/88\u001b[0m \u001b[32m━━━━━━━━━━━━━━━━━━━━\u001b[0m\u001b[37m\u001b[0m \u001b[1m0s\u001b[0m 65ms/step - loss: 0.0067\n",
      "Epoch 2: val_loss improved from 0.01582 to 0.00363, saving model to modelt.keras\n",
      "\u001b[1m88/88\u001b[0m \u001b[32m━━━━━━━━━━━━━━━━━━━━\u001b[0m\u001b[37m\u001b[0m \u001b[1m7s\u001b[0m 76ms/step - loss: 0.0067 - val_loss: 0.0036\n",
      "Epoch 3/100\n",
      "\u001b[1m88/88\u001b[0m \u001b[32m━━━━━━━━━━━━━━━━━━━━\u001b[0m\u001b[37m\u001b[0m \u001b[1m0s\u001b[0m 64ms/step - loss: 0.0074\n",
      "Epoch 3: val_loss did not improve from 0.00363\n",
      "\u001b[1m88/88\u001b[0m \u001b[32m━━━━━━━━━━━━━━━━━━━━\u001b[0m\u001b[37m\u001b[0m \u001b[1m6s\u001b[0m 73ms/step - loss: 0.0074 - val_loss: 0.0099\n",
      "Epoch 4/100\n",
      "\u001b[1m88/88\u001b[0m \u001b[32m━━━━━━━━━━━━━━━━━━━━\u001b[0m\u001b[37m\u001b[0m \u001b[1m0s\u001b[0m 62ms/step - loss: 0.0040\n",
      "Epoch 4: val_loss improved from 0.00363 to 0.00243, saving model to modelt.keras\n",
      "\u001b[1m88/88\u001b[0m \u001b[32m━━━━━━━━━━━━━━━━━━━━\u001b[0m\u001b[37m\u001b[0m \u001b[1m6s\u001b[0m 71ms/step - loss: 0.0040 - val_loss: 0.0024\n",
      "Epoch 5/100\n",
      "\u001b[1m88/88\u001b[0m \u001b[32m━━━━━━━━━━━━━━━━━━━━\u001b[0m\u001b[37m\u001b[0m \u001b[1m0s\u001b[0m 61ms/step - loss: 0.0038\n",
      "Epoch 5: val_loss did not improve from 0.00243\n",
      "\u001b[1m88/88\u001b[0m \u001b[32m━━━━━━━━━━━━━━━━━━━━\u001b[0m\u001b[37m\u001b[0m \u001b[1m6s\u001b[0m 70ms/step - loss: 0.0038 - val_loss: 0.0027\n",
      "Epoch 6/100\n",
      "\u001b[1m88/88\u001b[0m \u001b[32m━━━━━━━━━━━━━━━━━━━━\u001b[0m\u001b[37m\u001b[0m \u001b[1m0s\u001b[0m 61ms/step - loss: 0.0041\n",
      "Epoch 6: val_loss did not improve from 0.00243\n",
      "\u001b[1m88/88\u001b[0m \u001b[32m━━━━━━━━━━━━━━━━━━━━\u001b[0m\u001b[37m\u001b[0m \u001b[1m6s\u001b[0m 70ms/step - loss: 0.0041 - val_loss: 0.0063\n",
      "Epoch 7/100\n",
      "\u001b[1m88/88\u001b[0m \u001b[32m━━━━━━━━━━━━━━━━━━━━\u001b[0m\u001b[37m\u001b[0m \u001b[1m0s\u001b[0m 61ms/step - loss: 0.0039\n",
      "Epoch 7: val_loss improved from 0.00243 to 0.00185, saving model to modelt.keras\n",
      "\u001b[1m88/88\u001b[0m \u001b[32m━━━━━━━━━━━━━━━━━━━━\u001b[0m\u001b[37m\u001b[0m \u001b[1m6s\u001b[0m 70ms/step - loss: 0.0039 - val_loss: 0.0018\n",
      "Epoch 8/100\n",
      "\u001b[1m88/88\u001b[0m \u001b[32m━━━━━━━━━━━━━━━━━━━━\u001b[0m\u001b[37m\u001b[0m \u001b[1m0s\u001b[0m 64ms/step - loss: 0.0027\n",
      "Epoch 8: val_loss did not improve from 0.00185\n",
      "\u001b[1m88/88\u001b[0m \u001b[32m━━━━━━━━━━━━━━━━━━━━\u001b[0m\u001b[37m\u001b[0m \u001b[1m6s\u001b[0m 72ms/step - loss: 0.0027 - val_loss: 0.0026\n",
      "Epoch 9/100\n",
      "\u001b[1m88/88\u001b[0m \u001b[32m━━━━━━━━━━━━━━━━━━━━\u001b[0m\u001b[37m\u001b[0m \u001b[1m0s\u001b[0m 63ms/step - loss: 0.0029\n",
      "Epoch 9: val_loss did not improve from 0.00185\n",
      "\u001b[1m88/88\u001b[0m \u001b[32m━━━━━━━━━━━━━━━━━━━━\u001b[0m\u001b[37m\u001b[0m \u001b[1m6s\u001b[0m 72ms/step - loss: 0.0029 - val_loss: 0.0120\n",
      "Epoch 10/100\n",
      "\u001b[1m88/88\u001b[0m \u001b[32m━━━━━━━━━━━━━━━━━━━━\u001b[0m\u001b[37m\u001b[0m \u001b[1m0s\u001b[0m 63ms/step - loss: 0.0034\n",
      "Epoch 10: val_loss did not improve from 0.00185\n",
      "\u001b[1m88/88\u001b[0m \u001b[32m━━━━━━━━━━━━━━━━━━━━\u001b[0m\u001b[37m\u001b[0m \u001b[1m6s\u001b[0m 72ms/step - loss: 0.0034 - val_loss: 0.0041\n",
      "Epoch 11/100\n",
      "\u001b[1m88/88\u001b[0m \u001b[32m━━━━━━━━━━━━━━━━━━━━\u001b[0m\u001b[37m\u001b[0m \u001b[1m0s\u001b[0m 62ms/step - loss: 0.0022\n",
      "Epoch 11: val_loss did not improve from 0.00185\n",
      "\u001b[1m88/88\u001b[0m \u001b[32m━━━━━━━━━━━━━━━━━━━━\u001b[0m\u001b[37m\u001b[0m \u001b[1m6s\u001b[0m 71ms/step - loss: 0.0022 - val_loss: 0.0053\n",
      "Epoch 12/100\n",
      "\u001b[1m88/88\u001b[0m \u001b[32m━━━━━━━━━━━━━━━━━━━━\u001b[0m\u001b[37m\u001b[0m \u001b[1m0s\u001b[0m 63ms/step - loss: 0.0026\n",
      "Epoch 12: val_loss improved from 0.00185 to 0.00126, saving model to modelt.keras\n",
      "\u001b[1m88/88\u001b[0m \u001b[32m━━━━━━━━━━━━━━━━━━━━\u001b[0m\u001b[37m\u001b[0m \u001b[1m6s\u001b[0m 72ms/step - loss: 0.0026 - val_loss: 0.0013\n",
      "Epoch 13/100\n",
      "\u001b[1m88/88\u001b[0m \u001b[32m━━━━━━━━━━━━━━━━━━━━\u001b[0m\u001b[37m\u001b[0m \u001b[1m0s\u001b[0m 62ms/step - loss: 0.0021\n",
      "Epoch 13: val_loss did not improve from 0.00126\n",
      "\u001b[1m88/88\u001b[0m \u001b[32m━━━━━━━━━━━━━━━━━━━━\u001b[0m\u001b[37m\u001b[0m \u001b[1m6s\u001b[0m 70ms/step - loss: 0.0021 - val_loss: 0.0048\n",
      "Epoch 14/100\n",
      "\u001b[1m88/88\u001b[0m \u001b[32m━━━━━━━━━━━━━━━━━━━━\u001b[0m\u001b[37m\u001b[0m \u001b[1m0s\u001b[0m 63ms/step - loss: 0.0026\n",
      "Epoch 14: val_loss did not improve from 0.00126\n",
      "\u001b[1m88/88\u001b[0m \u001b[32m━━━━━━━━━━━━━━━━━━━━\u001b[0m\u001b[37m\u001b[0m \u001b[1m6s\u001b[0m 71ms/step - loss: 0.0026 - val_loss: 0.0015\n",
      "Epoch 15/100\n",
      "\u001b[1m88/88\u001b[0m \u001b[32m━━━━━━━━━━━━━━━━━━━━\u001b[0m\u001b[37m\u001b[0m \u001b[1m0s\u001b[0m 62ms/step - loss: 0.0021\n",
      "Epoch 15: val_loss did not improve from 0.00126\n",
      "\u001b[1m88/88\u001b[0m \u001b[32m━━━━━━━━━━━━━━━━━━━━\u001b[0m\u001b[37m\u001b[0m \u001b[1m6s\u001b[0m 72ms/step - loss: 0.0021 - val_loss: 0.0039\n",
      "Epoch 16/100\n",
      "\u001b[1m87/88\u001b[0m \u001b[32m━━━━━━━━━━━━━━━━━━━\u001b[0m\u001b[37m━\u001b[0m \u001b[1m0s\u001b[0m 62ms/step - loss: 0.0022\n",
      "Epoch 16: val_loss did not improve from 0.00126\n",
      "\u001b[1m88/88\u001b[0m \u001b[32m━━━━━━━━━━━━━━━━━━━━\u001b[0m\u001b[37m\u001b[0m \u001b[1m6s\u001b[0m 70ms/step - loss: 0.0022 - val_loss: 0.0025\n",
      "Epoch 17/100\n",
      "\u001b[1m88/88\u001b[0m \u001b[32m━━━━━━━━━━━━━━━━━━━━\u001b[0m\u001b[37m\u001b[0m \u001b[1m0s\u001b[0m 64ms/step - loss: 0.0018\n",
      "Epoch 17: val_loss did not improve from 0.00126\n",
      "\u001b[1m88/88\u001b[0m \u001b[32m━━━━━━━━━━━━━━━━━━━━\u001b[0m\u001b[37m\u001b[0m \u001b[1m6s\u001b[0m 73ms/step - loss: 0.0018 - val_loss: 0.0034\n",
      "Epoch 18/100\n",
      "\u001b[1m88/88\u001b[0m \u001b[32m━━━━━━━━━━━━━━━━━━━━\u001b[0m\u001b[37m\u001b[0m \u001b[1m0s\u001b[0m 62ms/step - loss: 0.0018\n",
      "Epoch 18: val_loss did not improve from 0.00126\n",
      "\u001b[1m88/88\u001b[0m \u001b[32m━━━━━━━━━━━━━━━━━━━━\u001b[0m\u001b[37m\u001b[0m \u001b[1m6s\u001b[0m 71ms/step - loss: 0.0018 - val_loss: 0.0014\n",
      "Epoch 19/100\n",
      "\u001b[1m88/88\u001b[0m \u001b[32m━━━━━━━━━━━━━━━━━━━━\u001b[0m\u001b[37m\u001b[0m \u001b[1m0s\u001b[0m 62ms/step - loss: 0.0020\n",
      "Epoch 19: val_loss improved from 0.00126 to 0.00120, saving model to modelt.keras\n",
      "\u001b[1m88/88\u001b[0m \u001b[32m━━━━━━━━━━━━━━━━━━━━\u001b[0m\u001b[37m\u001b[0m \u001b[1m6s\u001b[0m 71ms/step - loss: 0.0020 - val_loss: 0.0012\n",
      "Epoch 20/100\n",
      "\u001b[1m88/88\u001b[0m \u001b[32m━━━━━━━━━━━━━━━━━━━━\u001b[0m\u001b[37m\u001b[0m \u001b[1m0s\u001b[0m 62ms/step - loss: 0.0019\n",
      "Epoch 20: val_loss did not improve from 0.00120\n",
      "\u001b[1m88/88\u001b[0m \u001b[32m━━━━━━━━━━━━━━━━━━━━\u001b[0m\u001b[37m\u001b[0m \u001b[1m6s\u001b[0m 70ms/step - loss: 0.0019 - val_loss: 0.0013\n",
      "Epoch 21/100\n",
      "\u001b[1m88/88\u001b[0m \u001b[32m━━━━━━━━━━━━━━━━━━━━\u001b[0m\u001b[37m\u001b[0m \u001b[1m0s\u001b[0m 67ms/step - loss: 0.0018\n",
      "Epoch 21: val_loss did not improve from 0.00120\n",
      "\u001b[1m88/88\u001b[0m \u001b[32m━━━━━━━━━━━━━━━━━━━━\u001b[0m\u001b[37m\u001b[0m \u001b[1m7s\u001b[0m 75ms/step - loss: 0.0018 - val_loss: 0.0039\n",
      "Epoch 22/100\n",
      "\u001b[1m88/88\u001b[0m \u001b[32m━━━━━━━━━━━━━━━━━━━━\u001b[0m\u001b[37m\u001b[0m \u001b[1m0s\u001b[0m 73ms/step - loss: 0.0018\n",
      "Epoch 22: val_loss did not improve from 0.00120\n",
      "\u001b[1m88/88\u001b[0m \u001b[32m━━━━━━━━━━━━━━━━━━━━\u001b[0m\u001b[37m\u001b[0m \u001b[1m8s\u001b[0m 87ms/step - loss: 0.0018 - val_loss: 0.0026\n",
      "Epoch 23/100\n",
      "\u001b[1m88/88\u001b[0m \u001b[32m━━━━━━━━━━━━━━━━━━━━\u001b[0m\u001b[37m\u001b[0m \u001b[1m0s\u001b[0m 98ms/step - loss: 0.0017\n",
      "Epoch 23: val_loss did not improve from 0.00120\n",
      "\u001b[1m88/88\u001b[0m \u001b[32m━━━━━━━━━━━━━━━━━━━━\u001b[0m\u001b[37m\u001b[0m \u001b[1m10s\u001b[0m 113ms/step - loss: 0.0017 - val_loss: 0.0044\n",
      "Epoch 24/100\n",
      "\u001b[1m88/88\u001b[0m \u001b[32m━━━━━━━━━━━━━━━━━━━━\u001b[0m\u001b[37m\u001b[0m \u001b[1m0s\u001b[0m 98ms/step - loss: 0.0020\n",
      "Epoch 24: val_loss did not improve from 0.00120\n",
      "\u001b[1m88/88\u001b[0m \u001b[32m━━━━━━━━━━━━━━━━━━━━\u001b[0m\u001b[37m\u001b[0m \u001b[1m10s\u001b[0m 112ms/step - loss: 0.0020 - val_loss: 0.0022\n",
      "Epoch 25/100\n",
      "\u001b[1m88/88\u001b[0m \u001b[32m━━━━━━━━━━━━━━━━━━━━\u001b[0m\u001b[37m\u001b[0m \u001b[1m0s\u001b[0m 98ms/step - loss: 0.0017\n",
      "Epoch 25: val_loss did not improve from 0.00120\n",
      "\u001b[1m88/88\u001b[0m \u001b[32m━━━━━━━━━━━━━━━━━━━━\u001b[0m\u001b[37m\u001b[0m \u001b[1m10s\u001b[0m 112ms/step - loss: 0.0017 - val_loss: 0.0022\n",
      "Epoch 26/100\n",
      "\u001b[1m88/88\u001b[0m \u001b[32m━━━━━━━━━━━━━━━━━━━━\u001b[0m\u001b[37m\u001b[0m \u001b[1m0s\u001b[0m 98ms/step - loss: 0.0015\n",
      "Epoch 26: val_loss did not improve from 0.00120\n",
      "\u001b[1m88/88\u001b[0m \u001b[32m━━━━━━━━━━━━━━━━━━━━\u001b[0m\u001b[37m\u001b[0m \u001b[1m10s\u001b[0m 112ms/step - loss: 0.0015 - val_loss: 0.0021\n",
      "Epoch 27/100\n",
      "\u001b[1m88/88\u001b[0m \u001b[32m━━━━━━━━━━━━━━━━━━━━\u001b[0m\u001b[37m\u001b[0m \u001b[1m0s\u001b[0m 98ms/step - loss: 0.0017\n",
      "Epoch 27: val_loss did not improve from 0.00120\n",
      "\u001b[1m88/88\u001b[0m \u001b[32m━━━━━━━━━━━━━━━━━━━━\u001b[0m\u001b[37m\u001b[0m \u001b[1m10s\u001b[0m 113ms/step - loss: 0.0017 - val_loss: 0.0022\n",
      "Epoch 28/100\n",
      "\u001b[1m88/88\u001b[0m \u001b[32m━━━━━━━━━━━━━━━━━━━━\u001b[0m\u001b[37m\u001b[0m \u001b[1m0s\u001b[0m 98ms/step - loss: 0.0014\n",
      "Epoch 28: val_loss did not improve from 0.00120\n",
      "\u001b[1m88/88\u001b[0m \u001b[32m━━━━━━━━━━━━━━━━━━━━\u001b[0m\u001b[37m\u001b[0m \u001b[1m10s\u001b[0m 112ms/step - loss: 0.0014 - val_loss: 0.0014\n",
      "Epoch 29/100\n",
      "\u001b[1m88/88\u001b[0m \u001b[32m━━━━━━━━━━━━━━━━━━━━\u001b[0m\u001b[37m\u001b[0m \u001b[1m0s\u001b[0m 98ms/step - loss: 0.0016\n",
      "Epoch 29: val_loss improved from 0.00120 to 0.00096, saving model to modelt.keras\n",
      "\u001b[1m88/88\u001b[0m \u001b[32m━━━━━━━━━━━━━━━━━━━━\u001b[0m\u001b[37m\u001b[0m \u001b[1m10s\u001b[0m 113ms/step - loss: 0.0016 - val_loss: 9.5848e-04\n",
      "Epoch 30/100\n",
      "\u001b[1m88/88\u001b[0m \u001b[32m━━━━━━━━━━━━━━━━━━━━\u001b[0m\u001b[37m\u001b[0m \u001b[1m0s\u001b[0m 99ms/step - loss: 0.0017\n",
      "Epoch 30: val_loss did not improve from 0.00096\n",
      "\u001b[1m88/88\u001b[0m \u001b[32m━━━━━━━━━━━━━━━━━━━━\u001b[0m\u001b[37m\u001b[0m \u001b[1m10s\u001b[0m 112ms/step - loss: 0.0017 - val_loss: 0.0013\n",
      "Epoch 31/100\n",
      "\u001b[1m88/88\u001b[0m \u001b[32m━━━━━━━━━━━━━━━━━━━━\u001b[0m\u001b[37m\u001b[0m \u001b[1m0s\u001b[0m 99ms/step - loss: 0.0016\n",
      "Epoch 31: val_loss did not improve from 0.00096\n",
      "\u001b[1m88/88\u001b[0m \u001b[32m━━━━━━━━━━━━━━━━━━━━\u001b[0m\u001b[37m\u001b[0m \u001b[1m10s\u001b[0m 113ms/step - loss: 0.0016 - val_loss: 0.0025\n",
      "Epoch 32/100\n",
      "\u001b[1m88/88\u001b[0m \u001b[32m━━━━━━━━━━━━━━━━━━━━\u001b[0m\u001b[37m\u001b[0m \u001b[1m0s\u001b[0m 98ms/step - loss: 0.0014\n",
      "Epoch 32: val_loss did not improve from 0.00096\n",
      "\u001b[1m88/88\u001b[0m \u001b[32m━━━━━━━━━━━━━━━━━━━━\u001b[0m\u001b[37m\u001b[0m \u001b[1m10s\u001b[0m 113ms/step - loss: 0.0014 - val_loss: 0.0014\n",
      "Epoch 33/100\n",
      "\u001b[1m88/88\u001b[0m \u001b[32m━━━━━━━━━━━━━━━━━━━━\u001b[0m\u001b[37m\u001b[0m \u001b[1m0s\u001b[0m 98ms/step - loss: 0.0014\n",
      "Epoch 33: val_loss did not improve from 0.00096\n",
      "\u001b[1m88/88\u001b[0m \u001b[32m━━━━━━━━━━━━━━━━━━━━\u001b[0m\u001b[37m\u001b[0m \u001b[1m10s\u001b[0m 112ms/step - loss: 0.0014 - val_loss: 0.0018\n",
      "Epoch 34/100\n",
      "\u001b[1m88/88\u001b[0m \u001b[32m━━━━━━━━━━━━━━━━━━━━\u001b[0m\u001b[37m\u001b[0m \u001b[1m0s\u001b[0m 98ms/step - loss: 0.0012\n",
      "Epoch 34: val_loss did not improve from 0.00096\n",
      "\u001b[1m88/88\u001b[0m \u001b[32m━━━━━━━━━━━━━━━━━━━━\u001b[0m\u001b[37m\u001b[0m \u001b[1m10s\u001b[0m 113ms/step - loss: 0.0012 - val_loss: 0.0016\n",
      "Epoch 35/100\n",
      "\u001b[1m88/88\u001b[0m \u001b[32m━━━━━━━━━━━━━━━━━━━━\u001b[0m\u001b[37m\u001b[0m \u001b[1m0s\u001b[0m 103ms/step - loss: 0.0015\n",
      "Epoch 35: val_loss did not improve from 0.00096\n",
      "\u001b[1m88/88\u001b[0m \u001b[32m━━━━━━━━━━━━━━━━━━━━\u001b[0m\u001b[37m\u001b[0m \u001b[1m10s\u001b[0m 117ms/step - loss: 0.0015 - val_loss: 0.0026\n",
      "Epoch 36/100\n",
      "\u001b[1m88/88\u001b[0m \u001b[32m━━━━━━━━━━━━━━━━━━━━\u001b[0m\u001b[37m\u001b[0m \u001b[1m0s\u001b[0m 99ms/step - loss: 0.0014\n",
      "Epoch 36: val_loss did not improve from 0.00096\n",
      "\u001b[1m88/88\u001b[0m \u001b[32m━━━━━━━━━━━━━━━━━━━━\u001b[0m\u001b[37m\u001b[0m \u001b[1m10s\u001b[0m 115ms/step - loss: 0.0014 - val_loss: 0.0033\n",
      "Epoch 37/100\n",
      "\u001b[1m88/88\u001b[0m \u001b[32m━━━━━━━━━━━━━━━━━━━━\u001b[0m\u001b[37m\u001b[0m \u001b[1m0s\u001b[0m 99ms/step - loss: 0.0014\n",
      "Epoch 37: val_loss improved from 0.00096 to 0.00093, saving model to modelt.keras\n",
      "\u001b[1m88/88\u001b[0m \u001b[32m━━━━━━━━━━━━━━━━━━━━\u001b[0m\u001b[37m\u001b[0m \u001b[1m10s\u001b[0m 115ms/step - loss: 0.0014 - val_loss: 9.2502e-04\n",
      "Epoch 38/100\n",
      "\u001b[1m88/88\u001b[0m \u001b[32m━━━━━━━━━━━━━━━━━━━━\u001b[0m\u001b[37m\u001b[0m \u001b[1m0s\u001b[0m 100ms/step - loss: 0.0016\n",
      "Epoch 38: val_loss did not improve from 0.00093\n",
      "\u001b[1m88/88\u001b[0m \u001b[32m━━━━━━━━━━━━━━━━━━━━\u001b[0m\u001b[37m\u001b[0m \u001b[1m10s\u001b[0m 114ms/step - loss: 0.0016 - val_loss: 0.0012\n",
      "Epoch 39/100\n",
      "\u001b[1m88/88\u001b[0m \u001b[32m━━━━━━━━━━━━━━━━━━━━\u001b[0m\u001b[37m\u001b[0m \u001b[1m0s\u001b[0m 98ms/step - loss: 0.0015\n",
      "Epoch 39: val_loss did not improve from 0.00093\n",
      "\u001b[1m88/88\u001b[0m \u001b[32m━━━━━━━━━━━━━━━━━━━━\u001b[0m\u001b[37m\u001b[0m \u001b[1m10s\u001b[0m 113ms/step - loss: 0.0015 - val_loss: 0.0024\n",
      "Epoch 40/100\n",
      "\u001b[1m88/88\u001b[0m \u001b[32m━━━━━━━━━━━━━━━━━━━━\u001b[0m\u001b[37m\u001b[0m \u001b[1m0s\u001b[0m 69ms/step - loss: 0.0017\n",
      "Epoch 40: val_loss did not improve from 0.00093\n",
      "\u001b[1m88/88\u001b[0m \u001b[32m━━━━━━━━━━━━━━━━━━━━\u001b[0m\u001b[37m\u001b[0m \u001b[1m7s\u001b[0m 77ms/step - loss: 0.0017 - val_loss: 0.0024\n",
      "Epoch 41/100\n",
      "\u001b[1m87/88\u001b[0m \u001b[32m━━━━━━━━━━━━━━━━━━━\u001b[0m\u001b[37m━\u001b[0m \u001b[1m0s\u001b[0m 53ms/step - loss: 0.0013\n",
      "Epoch 41: val_loss did not improve from 0.00093\n",
      "\u001b[1m88/88\u001b[0m \u001b[32m━━━━━━━━━━━━━━━━━━━━\u001b[0m\u001b[37m\u001b[0m \u001b[1m5s\u001b[0m 61ms/step - loss: 0.0013 - val_loss: 0.0044\n",
      "Epoch 42/100\n",
      "\u001b[1m88/88\u001b[0m \u001b[32m━━━━━━━━━━━━━━━━━━━━\u001b[0m\u001b[37m\u001b[0m \u001b[1m0s\u001b[0m 52ms/step - loss: 0.0015\n",
      "Epoch 42: val_loss did not improve from 0.00093\n",
      "\u001b[1m88/88\u001b[0m \u001b[32m━━━━━━━━━━━━━━━━━━━━\u001b[0m\u001b[37m\u001b[0m \u001b[1m5s\u001b[0m 60ms/step - loss: 0.0015 - val_loss: 0.0049\n",
      "Epoch 43/100\n",
      "\u001b[1m87/88\u001b[0m \u001b[32m━━━━━━━━━━━━━━━━━━━\u001b[0m\u001b[37m━\u001b[0m \u001b[1m0s\u001b[0m 52ms/step - loss: 0.0015\n",
      "Epoch 43: val_loss did not improve from 0.00093\n",
      "\u001b[1m88/88\u001b[0m \u001b[32m━━━━━━━━━━━━━━━━━━━━\u001b[0m\u001b[37m\u001b[0m \u001b[1m5s\u001b[0m 60ms/step - loss: 0.0015 - val_loss: 0.0017\n",
      "Epoch 44/100\n",
      "\u001b[1m88/88\u001b[0m \u001b[32m━━━━━━━━━━━━━━━━━━━━\u001b[0m\u001b[37m\u001b[0m \u001b[1m0s\u001b[0m 53ms/step - loss: 0.0013\n",
      "Epoch 44: val_loss did not improve from 0.00093\n",
      "\u001b[1m88/88\u001b[0m \u001b[32m━━━━━━━━━━━━━━━━━━━━\u001b[0m\u001b[37m\u001b[0m \u001b[1m6s\u001b[0m 64ms/step - loss: 0.0013 - val_loss: 0.0016\n",
      "Epoch 45/100\n",
      "\u001b[1m87/88\u001b[0m \u001b[32m━━━━━━━━━━━━━━━━━━━\u001b[0m\u001b[37m━\u001b[0m \u001b[1m0s\u001b[0m 54ms/step - loss: 0.0013\n",
      "Epoch 45: val_loss did not improve from 0.00093\n",
      "\u001b[1m88/88\u001b[0m \u001b[32m━━━━━━━━━━━━━━━━━━━━\u001b[0m\u001b[37m\u001b[0m \u001b[1m5s\u001b[0m 62ms/step - loss: 0.0013 - val_loss: 0.0025\n",
      "Epoch 46/100\n",
      "\u001b[1m87/88\u001b[0m \u001b[32m━━━━━━━━━━━━━━━━━━━\u001b[0m\u001b[37m━\u001b[0m \u001b[1m0s\u001b[0m 55ms/step - loss: 0.0014\n",
      "Epoch 46: val_loss did not improve from 0.00093\n",
      "\u001b[1m88/88\u001b[0m \u001b[32m━━━━━━━━━━━━━━━━━━━━\u001b[0m\u001b[37m\u001b[0m \u001b[1m6s\u001b[0m 62ms/step - loss: 0.0014 - val_loss: 0.0031\n",
      "Epoch 47/100\n",
      "\u001b[1m87/88\u001b[0m \u001b[32m━━━━━━━━━━━━━━━━━━━\u001b[0m\u001b[37m━\u001b[0m \u001b[1m0s\u001b[0m 54ms/step - loss: 0.0012\n",
      "Epoch 47: val_loss did not improve from 0.00093\n",
      "\u001b[1m88/88\u001b[0m \u001b[32m━━━━━━━━━━━━━━━━━━━━\u001b[0m\u001b[37m\u001b[0m \u001b[1m5s\u001b[0m 61ms/step - loss: 0.0012 - val_loss: 0.0015\n",
      "Epoch 48/100\n",
      "\u001b[1m88/88\u001b[0m \u001b[32m━━━━━━━━━━━━━━━━━━━━\u001b[0m\u001b[37m\u001b[0m \u001b[1m0s\u001b[0m 55ms/step - loss: 0.0016\n",
      "Epoch 48: val_loss did not improve from 0.00093\n",
      "\u001b[1m88/88\u001b[0m \u001b[32m━━━━━━━━━━━━━━━━━━━━\u001b[0m\u001b[37m\u001b[0m \u001b[1m6s\u001b[0m 62ms/step - loss: 0.0016 - val_loss: 0.0019\n",
      "Epoch 49/100\n",
      "\u001b[1m87/88\u001b[0m \u001b[32m━━━━━━━━━━━━━━━━━━━\u001b[0m\u001b[37m━\u001b[0m \u001b[1m0s\u001b[0m 55ms/step - loss: 0.0014\n",
      "Epoch 49: val_loss did not improve from 0.00093\n",
      "\u001b[1m88/88\u001b[0m \u001b[32m━━━━━━━━━━━━━━━━━━━━\u001b[0m\u001b[37m\u001b[0m \u001b[1m5s\u001b[0m 62ms/step - loss: 0.0014 - val_loss: 0.0020\n",
      "Epoch 50/100\n",
      "\u001b[1m87/88\u001b[0m \u001b[32m━━━━━━━━━━━━━━━━━━━\u001b[0m\u001b[37m━\u001b[0m \u001b[1m0s\u001b[0m 55ms/step - loss: 0.0014\n",
      "Epoch 50: val_loss did not improve from 0.00093\n",
      "\u001b[1m88/88\u001b[0m \u001b[32m━━━━━━━━━━━━━━━━━━━━\u001b[0m\u001b[37m\u001b[0m \u001b[1m6s\u001b[0m 64ms/step - loss: 0.0014 - val_loss: 0.0018\n",
      "Epoch 51/100\n",
      "\u001b[1m87/88\u001b[0m \u001b[32m━━━━━━━━━━━━━━━━━━━\u001b[0m\u001b[37m━\u001b[0m \u001b[1m0s\u001b[0m 55ms/step - loss: 0.0013\n",
      "Epoch 51: val_loss did not improve from 0.00093\n",
      "\u001b[1m88/88\u001b[0m \u001b[32m━━━━━━━━━━━━━━━━━━━━\u001b[0m\u001b[37m\u001b[0m \u001b[1m6s\u001b[0m 63ms/step - loss: 0.0013 - val_loss: 0.0025\n",
      "Epoch 52/100\n",
      "\u001b[1m87/88\u001b[0m \u001b[32m━━━━━━━━━━━━━━━━━━━\u001b[0m\u001b[37m━\u001b[0m \u001b[1m0s\u001b[0m 55ms/step - loss: 0.0013\n",
      "Epoch 52: val_loss did not improve from 0.00093\n",
      "\u001b[1m88/88\u001b[0m \u001b[32m━━━━━━━━━━━━━━━━━━━━\u001b[0m\u001b[37m\u001b[0m \u001b[1m6s\u001b[0m 62ms/step - loss: 0.0013 - val_loss: 0.0016\n",
      "Epoch 53/100\n",
      "\u001b[1m87/88\u001b[0m \u001b[32m━━━━━━━━━━━━━━━━━━━\u001b[0m\u001b[37m━\u001b[0m \u001b[1m0s\u001b[0m 55ms/step - loss: 0.0013\n",
      "Epoch 53: val_loss did not improve from 0.00093\n",
      "\u001b[1m88/88\u001b[0m \u001b[32m━━━━━━━━━━━━━━━━━━━━\u001b[0m\u001b[37m\u001b[0m \u001b[1m6s\u001b[0m 63ms/step - loss: 0.0013 - val_loss: 0.0027\n",
      "Epoch 54/100\n",
      "\u001b[1m87/88\u001b[0m \u001b[32m━━━━━━━━━━━━━━━━━━━\u001b[0m\u001b[37m━\u001b[0m \u001b[1m0s\u001b[0m 56ms/step - loss: 0.0016\n",
      "Epoch 54: val_loss did not improve from 0.00093\n",
      "\u001b[1m88/88\u001b[0m \u001b[32m━━━━━━━━━━━━━━━━━━━━\u001b[0m\u001b[37m\u001b[0m \u001b[1m6s\u001b[0m 64ms/step - loss: 0.0016 - val_loss: 0.0044\n",
      "Epoch 55/100\n",
      "\u001b[1m87/88\u001b[0m \u001b[32m━━━━━━━━━━━━━━━━━━━\u001b[0m\u001b[37m━\u001b[0m \u001b[1m0s\u001b[0m 56ms/step - loss: 0.0014\n",
      "Epoch 55: val_loss did not improve from 0.00093\n",
      "\u001b[1m88/88\u001b[0m \u001b[32m━━━━━━━━━━━━━━━━━━━━\u001b[0m\u001b[37m\u001b[0m \u001b[1m6s\u001b[0m 63ms/step - loss: 0.0014 - val_loss: 0.0016\n",
      "Epoch 56/100\n",
      "\u001b[1m87/88\u001b[0m \u001b[32m━━━━━━━━━━━━━━━━━━━\u001b[0m\u001b[37m━\u001b[0m \u001b[1m0s\u001b[0m 56ms/step - loss: 0.0014\n",
      "Epoch 56: val_loss did not improve from 0.00093\n",
      "\u001b[1m88/88\u001b[0m \u001b[32m━━━━━━━━━━━━━━━━━━━━\u001b[0m\u001b[37m\u001b[0m \u001b[1m6s\u001b[0m 63ms/step - loss: 0.0014 - val_loss: 0.0011\n",
      "Epoch 57/100\n",
      "\u001b[1m87/88\u001b[0m \u001b[32m━━━━━━━━━━━━━━━━━━━\u001b[0m\u001b[37m━\u001b[0m \u001b[1m0s\u001b[0m 55ms/step - loss: 0.0013\n",
      "Epoch 57: val_loss improved from 0.00093 to 0.00081, saving model to modelt.keras\n",
      "\u001b[1m88/88\u001b[0m \u001b[32m━━━━━━━━━━━━━━━━━━━━\u001b[0m\u001b[37m\u001b[0m \u001b[1m6s\u001b[0m 64ms/step - loss: 0.0013 - val_loss: 8.1190e-04\n",
      "Epoch 58/100\n",
      "\u001b[1m87/88\u001b[0m \u001b[32m━━━━━━━━━━━━━━━━━━━\u001b[0m\u001b[37m━\u001b[0m \u001b[1m0s\u001b[0m 55ms/step - loss: 0.0016\n",
      "Epoch 58: val_loss did not improve from 0.00081\n",
      "\u001b[1m88/88\u001b[0m \u001b[32m━━━━━━━━━━━━━━━━━━━━\u001b[0m\u001b[37m\u001b[0m \u001b[1m6s\u001b[0m 62ms/step - loss: 0.0016 - val_loss: 9.7826e-04\n",
      "Epoch 59/100\n",
      "\u001b[1m88/88\u001b[0m \u001b[32m━━━━━━━━━━━━━━━━━━━━\u001b[0m\u001b[37m\u001b[0m \u001b[1m0s\u001b[0m 55ms/step - loss: 0.0013\n",
      "Epoch 59: val_loss did not improve from 0.00081\n",
      "\u001b[1m88/88\u001b[0m \u001b[32m━━━━━━━━━━━━━━━━━━━━\u001b[0m\u001b[37m\u001b[0m \u001b[1m6s\u001b[0m 63ms/step - loss: 0.0013 - val_loss: 0.0012\n",
      "Epoch 60/100\n",
      "\u001b[1m87/88\u001b[0m \u001b[32m━━━━━━━━━━━━━━━━━━━\u001b[0m\u001b[37m━\u001b[0m \u001b[1m0s\u001b[0m 55ms/step - loss: 0.0015\n",
      "Epoch 60: val_loss did not improve from 0.00081\n",
      "\u001b[1m88/88\u001b[0m \u001b[32m━━━━━━━━━━━━━━━━━━━━\u001b[0m\u001b[37m\u001b[0m \u001b[1m6s\u001b[0m 63ms/step - loss: 0.0015 - val_loss: 0.0052\n",
      "Epoch 61/100\n",
      "\u001b[1m87/88\u001b[0m \u001b[32m━━━━━━━━━━━━━━━━━━━\u001b[0m\u001b[37m━\u001b[0m \u001b[1m0s\u001b[0m 54ms/step - loss: 0.0014\n",
      "Epoch 61: val_loss did not improve from 0.00081\n",
      "\u001b[1m88/88\u001b[0m \u001b[32m━━━━━━━━━━━━━━━━━━━━\u001b[0m\u001b[37m\u001b[0m \u001b[1m6s\u001b[0m 63ms/step - loss: 0.0014 - val_loss: 9.9492e-04\n",
      "Epoch 62/100\n",
      "\u001b[1m87/88\u001b[0m \u001b[32m━━━━━━━━━━━━━━━━━━━\u001b[0m\u001b[37m━\u001b[0m \u001b[1m0s\u001b[0m 55ms/step - loss: 0.0013\n",
      "Epoch 62: val_loss did not improve from 0.00081\n",
      "\u001b[1m88/88\u001b[0m \u001b[32m━━━━━━━━━━━━━━━━━━━━\u001b[0m\u001b[37m\u001b[0m \u001b[1m6s\u001b[0m 63ms/step - loss: 0.0013 - val_loss: 0.0030\n",
      "Epoch 63/100\n",
      "\u001b[1m87/88\u001b[0m \u001b[32m━━━━━━━━━━━━━━━━━━━\u001b[0m\u001b[37m━\u001b[0m \u001b[1m0s\u001b[0m 55ms/step - loss: 0.0013\n",
      "Epoch 63: val_loss did not improve from 0.00081\n",
      "\u001b[1m88/88\u001b[0m \u001b[32m━━━━━━━━━━━━━━━━━━━━\u001b[0m\u001b[37m\u001b[0m \u001b[1m5s\u001b[0m 62ms/step - loss: 0.0013 - val_loss: 0.0011\n",
      "Epoch 64/100\n",
      "\u001b[1m87/88\u001b[0m \u001b[32m━━━━━━━━━━━━━━━━━━━\u001b[0m\u001b[37m━\u001b[0m \u001b[1m0s\u001b[0m 56ms/step - loss: 0.0014\n",
      "Epoch 64: val_loss did not improve from 0.00081\n",
      "\u001b[1m88/88\u001b[0m \u001b[32m━━━━━━━━━━━━━━━━━━━━\u001b[0m\u001b[37m\u001b[0m \u001b[1m6s\u001b[0m 63ms/step - loss: 0.0014 - val_loss: 0.0019\n",
      "Epoch 65/100\n",
      "\u001b[1m87/88\u001b[0m \u001b[32m━━━━━━━━━━━━━━━━━━━\u001b[0m\u001b[37m━\u001b[0m \u001b[1m0s\u001b[0m 56ms/step - loss: 0.0014\n",
      "Epoch 65: val_loss did not improve from 0.00081\n",
      "\u001b[1m88/88\u001b[0m \u001b[32m━━━━━━━━━━━━━━━━━━━━\u001b[0m\u001b[37m\u001b[0m \u001b[1m6s\u001b[0m 64ms/step - loss: 0.0014 - val_loss: 0.0123\n",
      "Epoch 66/100\n",
      "\u001b[1m87/88\u001b[0m \u001b[32m━━━━━━━━━━━━━━━━━━━\u001b[0m\u001b[37m━\u001b[0m \u001b[1m0s\u001b[0m 55ms/step - loss: 0.0020\n",
      "Epoch 66: val_loss did not improve from 0.00081\n",
      "\u001b[1m88/88\u001b[0m \u001b[32m━━━━━━━━━━━━━━━━━━━━\u001b[0m\u001b[37m\u001b[0m \u001b[1m6s\u001b[0m 63ms/step - loss: 0.0020 - val_loss: 8.9445e-04\n",
      "Epoch 67/100\n",
      "\u001b[1m87/88\u001b[0m \u001b[32m━━━━━━━━━━━━━━━━━━━\u001b[0m\u001b[37m━\u001b[0m \u001b[1m0s\u001b[0m 55ms/step - loss: 0.0014\n",
      "Epoch 67: val_loss did not improve from 0.00081\n",
      "\u001b[1m88/88\u001b[0m \u001b[32m━━━━━━━━━━━━━━━━━━━━\u001b[0m\u001b[37m\u001b[0m \u001b[1m6s\u001b[0m 63ms/step - loss: 0.0014 - val_loss: 0.0038\n",
      "Epoch 68/100\n",
      "\u001b[1m87/88\u001b[0m \u001b[32m━━━━━━━━━━━━━━━━━━━\u001b[0m\u001b[37m━\u001b[0m \u001b[1m0s\u001b[0m 55ms/step - loss: 0.0014\n",
      "Epoch 68: val_loss did not improve from 0.00081\n",
      "\u001b[1m88/88\u001b[0m \u001b[32m━━━━━━━━━━━━━━━━━━━━\u001b[0m\u001b[37m\u001b[0m \u001b[1m6s\u001b[0m 62ms/step - loss: 0.0014 - val_loss: 0.0025\n",
      "Epoch 69/100\n",
      "\u001b[1m87/88\u001b[0m \u001b[32m━━━━━━━━━━━━━━━━━━━\u001b[0m\u001b[37m━\u001b[0m \u001b[1m0s\u001b[0m 55ms/step - loss: 0.0013\n",
      "Epoch 69: val_loss did not improve from 0.00081\n",
      "\u001b[1m88/88\u001b[0m \u001b[32m━━━━━━━━━━━━━━━━━━━━\u001b[0m\u001b[37m\u001b[0m \u001b[1m6s\u001b[0m 63ms/step - loss: 0.0013 - val_loss: 0.0033\n",
      "Epoch 70/100\n",
      "\u001b[1m87/88\u001b[0m \u001b[32m━━━━━━━━━━━━━━━━━━━\u001b[0m\u001b[37m━\u001b[0m \u001b[1m0s\u001b[0m 55ms/step - loss: 0.0014\n",
      "Epoch 70: val_loss did not improve from 0.00081\n",
      "\u001b[1m88/88\u001b[0m \u001b[32m━━━━━━━━━━━━━━━━━━━━\u001b[0m\u001b[37m\u001b[0m \u001b[1m5s\u001b[0m 62ms/step - loss: 0.0014 - val_loss: 0.0013\n",
      "Epoch 71/100\n",
      "\u001b[1m87/88\u001b[0m \u001b[32m━━━━━━━━━━━━━━━━━━━\u001b[0m\u001b[37m━\u001b[0m \u001b[1m0s\u001b[0m 55ms/step - loss: 0.0015\n",
      "Epoch 71: val_loss did not improve from 0.00081\n",
      "\u001b[1m88/88\u001b[0m \u001b[32m━━━━━━━━━━━━━━━━━━━━\u001b[0m\u001b[37m\u001b[0m \u001b[1m6s\u001b[0m 63ms/step - loss: 0.0015 - val_loss: 0.0018\n",
      "Epoch 72/100\n",
      "\u001b[1m87/88\u001b[0m \u001b[32m━━━━━━━━━━━━━━━━━━━\u001b[0m\u001b[37m━\u001b[0m \u001b[1m0s\u001b[0m 56ms/step - loss: 0.0011\n",
      "Epoch 72: val_loss did not improve from 0.00081\n",
      "\u001b[1m88/88\u001b[0m \u001b[32m━━━━━━━━━━━━━━━━━━━━\u001b[0m\u001b[37m\u001b[0m \u001b[1m6s\u001b[0m 63ms/step - loss: 0.0011 - val_loss: 0.0018\n",
      "Epoch 73/100\n",
      "\u001b[1m87/88\u001b[0m \u001b[32m━━━━━━━━━━━━━━━━━━━\u001b[0m\u001b[37m━\u001b[0m \u001b[1m0s\u001b[0m 56ms/step - loss: 0.0013\n",
      "Epoch 73: val_loss did not improve from 0.00081\n",
      "\u001b[1m88/88\u001b[0m \u001b[32m━━━━━━━━━━━━━━━━━━━━\u001b[0m\u001b[37m\u001b[0m \u001b[1m6s\u001b[0m 63ms/step - loss: 0.0013 - val_loss: 0.0034\n",
      "Epoch 74/100\n",
      "\u001b[1m87/88\u001b[0m \u001b[32m━━━━━━━━━━━━━━━━━━━\u001b[0m\u001b[37m━\u001b[0m \u001b[1m0s\u001b[0m 55ms/step - loss: 0.0018\n",
      "Epoch 74: val_loss did not improve from 0.00081\n",
      "\u001b[1m88/88\u001b[0m \u001b[32m━━━━━━━━━━━━━━━━━━━━\u001b[0m\u001b[37m\u001b[0m \u001b[1m6s\u001b[0m 63ms/step - loss: 0.0017 - val_loss: 0.0027\n",
      "Epoch 75/100\n",
      "\u001b[1m88/88\u001b[0m \u001b[32m━━━━━━━━━━━━━━━━━━━━\u001b[0m\u001b[37m\u001b[0m \u001b[1m0s\u001b[0m 56ms/step - loss: 0.0013\n",
      "Epoch 75: val_loss did not improve from 0.00081\n",
      "\u001b[1m88/88\u001b[0m \u001b[32m━━━━━━━━━━━━━━━━━━━━\u001b[0m\u001b[37m\u001b[0m \u001b[1m6s\u001b[0m 64ms/step - loss: 0.0013 - val_loss: 0.0026\n",
      "Epoch 76/100\n",
      "\u001b[1m87/88\u001b[0m \u001b[32m━━━━━━━━━━━━━━━━━━━\u001b[0m\u001b[37m━\u001b[0m \u001b[1m0s\u001b[0m 56ms/step - loss: 0.0012\n",
      "Epoch 76: val_loss did not improve from 0.00081\n",
      "\u001b[1m88/88\u001b[0m \u001b[32m━━━━━━━━━━━━━━━━━━━━\u001b[0m\u001b[37m\u001b[0m \u001b[1m6s\u001b[0m 64ms/step - loss: 0.0012 - val_loss: 0.0010\n",
      "Epoch 77/100\n",
      "\u001b[1m88/88\u001b[0m \u001b[32m━━━━━━━━━━━━━━━━━━━━\u001b[0m\u001b[37m\u001b[0m \u001b[1m0s\u001b[0m 56ms/step - loss: 0.0013\n",
      "Epoch 77: val_loss did not improve from 0.00081\n",
      "\u001b[1m88/88\u001b[0m \u001b[32m━━━━━━━━━━━━━━━━━━━━\u001b[0m\u001b[37m\u001b[0m \u001b[1m6s\u001b[0m 63ms/step - loss: 0.0013 - val_loss: 0.0013\n",
      "Epoch 78/100\n",
      "\u001b[1m87/88\u001b[0m \u001b[32m━━━━━━━━━━━━━━━━━━━\u001b[0m\u001b[37m━\u001b[0m \u001b[1m0s\u001b[0m 56ms/step - loss: 0.0016\n",
      "Epoch 78: val_loss did not improve from 0.00081\n",
      "\u001b[1m88/88\u001b[0m \u001b[32m━━━━━━━━━━━━━━━━━━━━\u001b[0m\u001b[37m\u001b[0m \u001b[1m6s\u001b[0m 63ms/step - loss: 0.0016 - val_loss: 8.6658e-04\n",
      "Epoch 79/100\n",
      "\u001b[1m87/88\u001b[0m \u001b[32m━━━━━━━━━━━━━━━━━━━\u001b[0m\u001b[37m━\u001b[0m \u001b[1m0s\u001b[0m 57ms/step - loss: 0.0013\n",
      "Epoch 79: val_loss did not improve from 0.00081\n",
      "\u001b[1m88/88\u001b[0m \u001b[32m━━━━━━━━━━━━━━━━━━━━\u001b[0m\u001b[37m\u001b[0m \u001b[1m6s\u001b[0m 64ms/step - loss: 0.0013 - val_loss: 0.0011\n",
      "Epoch 80/100\n",
      "\u001b[1m87/88\u001b[0m \u001b[32m━━━━━━━━━━━━━━━━━━━\u001b[0m\u001b[37m━\u001b[0m \u001b[1m0s\u001b[0m 56ms/step - loss: 0.0013\n",
      "Epoch 80: val_loss did not improve from 0.00081\n",
      "\u001b[1m88/88\u001b[0m \u001b[32m━━━━━━━━━━━━━━━━━━━━\u001b[0m\u001b[37m\u001b[0m \u001b[1m6s\u001b[0m 64ms/step - loss: 0.0013 - val_loss: 0.0035\n",
      "Epoch 81/100\n",
      "\u001b[1m87/88\u001b[0m \u001b[32m━━━━━━━━━━━━━━━━━━━\u001b[0m\u001b[37m━\u001b[0m \u001b[1m0s\u001b[0m 56ms/step - loss: 0.0014\n",
      "Epoch 81: val_loss did not improve from 0.00081\n",
      "\u001b[1m88/88\u001b[0m \u001b[32m━━━━━━━━━━━━━━━━━━━━\u001b[0m\u001b[37m\u001b[0m \u001b[1m6s\u001b[0m 63ms/step - loss: 0.0014 - val_loss: 0.0010\n",
      "Epoch 82/100\n",
      "\u001b[1m88/88\u001b[0m \u001b[32m━━━━━━━━━━━━━━━━━━━━\u001b[0m\u001b[37m\u001b[0m \u001b[1m0s\u001b[0m 57ms/step - loss: 0.0014\n",
      "Epoch 82: val_loss did not improve from 0.00081\n",
      "\u001b[1m88/88\u001b[0m \u001b[32m━━━━━━━━━━━━━━━━━━━━\u001b[0m\u001b[37m\u001b[0m \u001b[1m6s\u001b[0m 64ms/step - loss: 0.0014 - val_loss: 0.0016\n",
      "Epoch 83/100\n",
      "\u001b[1m88/88\u001b[0m \u001b[32m━━━━━━━━━━━━━━━━━━━━\u001b[0m\u001b[37m\u001b[0m \u001b[1m0s\u001b[0m 56ms/step - loss: 0.0013\n",
      "Epoch 83: val_loss did not improve from 0.00081\n",
      "\u001b[1m88/88\u001b[0m \u001b[32m━━━━━━━━━━━━━━━━━━━━\u001b[0m\u001b[37m\u001b[0m \u001b[1m6s\u001b[0m 64ms/step - loss: 0.0013 - val_loss: 0.0016\n",
      "Epoch 84/100\n",
      "\u001b[1m87/88\u001b[0m \u001b[32m━━━━━━━━━━━━━━━━━━━\u001b[0m\u001b[37m━\u001b[0m \u001b[1m0s\u001b[0m 56ms/step - loss: 0.0013\n",
      "Epoch 84: val_loss did not improve from 0.00081\n",
      "\u001b[1m88/88\u001b[0m \u001b[32m━━━━━━━━━━━━━━━━━━━━\u001b[0m\u001b[37m\u001b[0m \u001b[1m6s\u001b[0m 63ms/step - loss: 0.0013 - val_loss: 0.0021\n",
      "Epoch 85/100\n",
      "\u001b[1m88/88\u001b[0m \u001b[32m━━━━━━━━━━━━━━━━━━━━\u001b[0m\u001b[37m\u001b[0m \u001b[1m0s\u001b[0m 56ms/step - loss: 0.0018\n",
      "Epoch 85: val_loss did not improve from 0.00081\n",
      "\u001b[1m88/88\u001b[0m \u001b[32m━━━━━━━━━━━━━━━━━━━━\u001b[0m\u001b[37m\u001b[0m \u001b[1m6s\u001b[0m 63ms/step - loss: 0.0018 - val_loss: 0.0063\n",
      "Epoch 86/100\n",
      "\u001b[1m87/88\u001b[0m \u001b[32m━━━━━━━━━━━━━━━━━━━\u001b[0m\u001b[37m━\u001b[0m \u001b[1m0s\u001b[0m 56ms/step - loss: 0.0015\n",
      "Epoch 86: val_loss did not improve from 0.00081\n",
      "\u001b[1m88/88\u001b[0m \u001b[32m━━━━━━━━━━━━━━━━━━━━\u001b[0m\u001b[37m\u001b[0m \u001b[1m6s\u001b[0m 63ms/step - loss: 0.0015 - val_loss: 0.0012\n",
      "Epoch 87/100\n",
      "\u001b[1m87/88\u001b[0m \u001b[32m━━━━━━━━━━━━━━━━━━━\u001b[0m\u001b[37m━\u001b[0m \u001b[1m0s\u001b[0m 57ms/step - loss: 0.0014\n",
      "Epoch 87: val_loss did not improve from 0.00081\n",
      "\u001b[1m88/88\u001b[0m \u001b[32m━━━━━━━━━━━━━━━━━━━━\u001b[0m\u001b[37m\u001b[0m \u001b[1m6s\u001b[0m 64ms/step - loss: 0.0014 - val_loss: 0.0044\n",
      "Epoch 88/100\n",
      "\u001b[1m87/88\u001b[0m \u001b[32m━━━━━━━━━━━━━━━━━━━\u001b[0m\u001b[37m━\u001b[0m \u001b[1m0s\u001b[0m 55ms/step - loss: 0.0015\n",
      "Epoch 88: val_loss did not improve from 0.00081\n",
      "\u001b[1m88/88\u001b[0m \u001b[32m━━━━━━━━━━━━━━━━━━━━\u001b[0m\u001b[37m\u001b[0m \u001b[1m6s\u001b[0m 63ms/step - loss: 0.0015 - val_loss: 0.0015\n",
      "Epoch 89/100\n",
      "\u001b[1m87/88\u001b[0m \u001b[32m━━━━━━━━━━━━━━━━━━━\u001b[0m\u001b[37m━\u001b[0m \u001b[1m0s\u001b[0m 56ms/step - loss: 0.0016\n",
      "Epoch 89: val_loss did not improve from 0.00081\n",
      "\u001b[1m88/88\u001b[0m \u001b[32m━━━━━━━━━━━━━━━━━━━━\u001b[0m\u001b[37m\u001b[0m \u001b[1m6s\u001b[0m 63ms/step - loss: 0.0016 - val_loss: 0.0028\n",
      "Epoch 90/100\n",
      "\u001b[1m87/88\u001b[0m \u001b[32m━━━━━━━━━━━━━━━━━━━\u001b[0m\u001b[37m━\u001b[0m \u001b[1m0s\u001b[0m 56ms/step - loss: 0.0013\n",
      "Epoch 90: val_loss did not improve from 0.00081\n",
      "\u001b[1m88/88\u001b[0m \u001b[32m━━━━━━━━━━━━━━━━━━━━\u001b[0m\u001b[37m\u001b[0m \u001b[1m6s\u001b[0m 63ms/step - loss: 0.0013 - val_loss: 0.0017\n",
      "Epoch 91/100\n",
      "\u001b[1m87/88\u001b[0m \u001b[32m━━━━━━━━━━━━━━━━━━━\u001b[0m\u001b[37m━\u001b[0m \u001b[1m0s\u001b[0m 56ms/step - loss: 0.0012\n",
      "Epoch 91: val_loss did not improve from 0.00081\n",
      "\u001b[1m88/88\u001b[0m \u001b[32m━━━━━━━━━━━━━━━━━━━━\u001b[0m\u001b[37m\u001b[0m \u001b[1m6s\u001b[0m 63ms/step - loss: 0.0012 - val_loss: 9.9968e-04\n",
      "Epoch 92/100\n",
      "\u001b[1m87/88\u001b[0m \u001b[32m━━━━━━━━━━━━━━━━━━━\u001b[0m\u001b[37m━\u001b[0m \u001b[1m0s\u001b[0m 56ms/step - loss: 0.0012\n",
      "Epoch 92: val_loss did not improve from 0.00081\n",
      "\u001b[1m88/88\u001b[0m \u001b[32m━━━━━━━━━━━━━━━━━━━━\u001b[0m\u001b[37m\u001b[0m \u001b[1m6s\u001b[0m 63ms/step - loss: 0.0012 - val_loss: 0.0030\n",
      "Epoch 93/100\n",
      "\u001b[1m88/88\u001b[0m \u001b[32m━━━━━━━━━━━━━━━━━━━━\u001b[0m\u001b[37m\u001b[0m \u001b[1m0s\u001b[0m 57ms/step - loss: 0.0013\n",
      "Epoch 93: val_loss did not improve from 0.00081\n",
      "\u001b[1m88/88\u001b[0m \u001b[32m━━━━━━━━━━━━━━━━━━━━\u001b[0m\u001b[37m\u001b[0m \u001b[1m6s\u001b[0m 64ms/step - loss: 0.0013 - val_loss: 0.0022\n",
      "Epoch 94/100\n",
      "\u001b[1m87/88\u001b[0m \u001b[32m━━━━━━━━━━━━━━━━━━━\u001b[0m\u001b[37m━\u001b[0m \u001b[1m0s\u001b[0m 56ms/step - loss: 0.0014\n",
      "Epoch 94: val_loss did not improve from 0.00081\n",
      "\u001b[1m88/88\u001b[0m \u001b[32m━━━━━━━━━━━━━━━━━━━━\u001b[0m\u001b[37m\u001b[0m \u001b[1m6s\u001b[0m 64ms/step - loss: 0.0014 - val_loss: 0.0018\n",
      "Epoch 95/100\n",
      "\u001b[1m88/88\u001b[0m \u001b[32m━━━━━━━━━━━━━━━━━━━━\u001b[0m\u001b[37m\u001b[0m \u001b[1m0s\u001b[0m 56ms/step - loss: 0.0012\n",
      "Epoch 95: val_loss did not improve from 0.00081\n",
      "\u001b[1m88/88\u001b[0m \u001b[32m━━━━━━━━━━━━━━━━━━━━\u001b[0m\u001b[37m\u001b[0m \u001b[1m6s\u001b[0m 63ms/step - loss: 0.0012 - val_loss: 0.0043\n",
      "Epoch 96/100\n",
      "\u001b[1m87/88\u001b[0m \u001b[32m━━━━━━━━━━━━━━━━━━━\u001b[0m\u001b[37m━\u001b[0m \u001b[1m0s\u001b[0m 56ms/step - loss: 0.0015\n",
      "Epoch 96: val_loss did not improve from 0.00081\n",
      "\u001b[1m88/88\u001b[0m \u001b[32m━━━━━━━━━━━━━━━━━━━━\u001b[0m\u001b[37m\u001b[0m \u001b[1m6s\u001b[0m 63ms/step - loss: 0.0015 - val_loss: 0.0065\n",
      "Epoch 97/100\n",
      "\u001b[1m87/88\u001b[0m \u001b[32m━━━━━━━━━━━━━━━━━━━\u001b[0m\u001b[37m━\u001b[0m \u001b[1m0s\u001b[0m 56ms/step - loss: 0.0016\n",
      "Epoch 97: val_loss did not improve from 0.00081\n",
      "\u001b[1m88/88\u001b[0m \u001b[32m━━━━━━━━━━━━━━━━━━━━\u001b[0m\u001b[37m\u001b[0m \u001b[1m6s\u001b[0m 63ms/step - loss: 0.0016 - val_loss: 0.0031\n",
      "Epoch 98/100\n",
      "\u001b[1m88/88\u001b[0m \u001b[32m━━━━━━━━━━━━━━━━━━━━\u001b[0m\u001b[37m\u001b[0m \u001b[1m0s\u001b[0m 56ms/step - loss: 0.0013\n",
      "Epoch 98: val_loss did not improve from 0.00081\n",
      "\u001b[1m88/88\u001b[0m \u001b[32m━━━━━━━━━━━━━━━━━━━━\u001b[0m\u001b[37m\u001b[0m \u001b[1m6s\u001b[0m 64ms/step - loss: 0.0013 - val_loss: 0.0013\n",
      "Epoch 99/100\n",
      "\u001b[1m87/88\u001b[0m \u001b[32m━━━━━━━━━━━━━━━━━━━\u001b[0m\u001b[37m━\u001b[0m \u001b[1m0s\u001b[0m 56ms/step - loss: 0.0012\n",
      "Epoch 99: val_loss did not improve from 0.00081\n",
      "\u001b[1m88/88\u001b[0m \u001b[32m━━━━━━━━━━━━━━━━━━━━\u001b[0m\u001b[37m\u001b[0m \u001b[1m6s\u001b[0m 63ms/step - loss: 0.0012 - val_loss: 0.0019\n",
      "Epoch 100/100\n",
      "\u001b[1m87/88\u001b[0m \u001b[32m━━━━━━━━━━━━━━━━━━━\u001b[0m\u001b[37m━\u001b[0m \u001b[1m0s\u001b[0m 57ms/step - loss: 0.0013\n",
      "Epoch 100: val_loss did not improve from 0.00081\n",
      "\u001b[1m88/88\u001b[0m \u001b[32m━━━━━━━━━━━━━━━━━━━━\u001b[0m\u001b[37m\u001b[0m \u001b[1m6s\u001b[0m 64ms/step - loss: 0.0013 - val_loss: 0.0030\n"
     ]
    }
   ],
   "source": [
    "from tensorflow.keras.callbacks import ModelCheckpoint\n",
    "epochs=100\n",
    "checkpoint = ModelCheckpoint(\n",
    "    'modelt.keras',  # Path where the model will be saved\n",
    "    monitor='val_loss',  # Metric to monitor\n",
    "    verbose=1,  # Verbosity mode, 1 = progress bar\n",
    "    save_best_only=True,  # Save only when the monitored metric improves\n",
    "    mode='min'  # Mode for the monitored metric, 'max' for accuracy\n",
    ")\n",
    "history=model.fit(x_train,y_train,epochs=epochs,batch_size=10,validation_data=(x_test,y_test),callbacks=[checkpoint])"
   ]
  },
  {
   "cell_type": "markdown",
   "metadata": {},
   "source": [
    "\"\"\"No weight updates are made based on the validation loss. \n",
    "The validation loss is only used for monitoring and evaluating how well the model is generalizing to unseen data. \"\"\""
   ]
  },
  {
   "cell_type": "code",
   "execution_count": 132,
   "metadata": {},
   "outputs": [
    {
     "data": {
      "image/png": "[encoded data removed]",
      "text/plain": [
       "<Figure size 640x480 with 1 Axes>"
      ]
     },
     "metadata": {},
     "output_type": "display_data"
    }
   ],
   "source": [
    "import matplotlib.pyplot as plt\n",
    "epochs = [i for i in range(1,101)]\n",
    "train_acc = history.history['loss']\n",
    "test_acc = history.history['val_loss']\n",
    "plt.plot(epochs,train_acc,label='train_data')\n",
    "plt.plot(epochs,test_acc,label='test data')\n",
    "plt.legend()\n",
    "plt.show() "
   ]
  },
  {
   "cell_type": "code",
   "execution_count": 840,
   "metadata": {},
   "outputs": [],
   "source": [
    "# constant performance"
   ]
  },
  {
   "cell_type": "code",
   "execution_count": 62,
   "metadata": {},
   "outputs": [
    {
     "name": "stdout",
     "output_type": "stream",
     "text": [
      "\u001b[1m13/13\u001b[0m \u001b[32m━━━━━━━━━━━━━━━━━━━━\u001b[0m\u001b[37m\u001b[0m \u001b[1m2s\u001b[0m 54ms/step - loss: 5.7377e-04\n"
     ]
    },
    {
     "data": {
      "text/plain": [
       "0.0007357201538980007"
      ]
     },
     "execution_count": 62,
     "metadata": {},
     "output_type": "execute_result"
    }
   ],
   "source": [
    "#from tensorflow.keras.models import load_model\n",
    "#model= load_model('models/modelt.keras')\n",
    "#model.evaluate(x_test,y_test)"
   ]
  },
  {
   "cell_type": "code",
   "execution_count": 63,
   "metadata": {},
   "outputs": [
    {
     "name": "stdout",
     "output_type": "stream",
     "text": [
      "\u001b[1m13/13\u001b[0m \u001b[32m━━━━━━━━━━━━━━━━━━━━\u001b[0m\u001b[37m\u001b[0m \u001b[1m2s\u001b[0m 99ms/step\n"
     ]
    }
   ],
   "source": [
    "y_pred = model.predict(x_test)\n",
    "y_pred = scaler2.inverse_transform(y_pred)"
   ]
  },
  {
   "cell_type": "code",
   "execution_count": 64,
   "metadata": {},
   "outputs": [
    {
     "data": {
      "text/plain": [
       "((406, 60, 6), (406, 3))"
      ]
     },
     "execution_count": 64,
     "metadata": {},
     "output_type": "execute_result"
    }
   ],
   "source": [
    "x_test.shape,y_pred.shape"
   ]
  },
  {
   "cell_type": "code",
   "execution_count": 65,
   "metadata": {},
   "outputs": [
    {
     "data": {
      "text/plain": [
       "array([[ 97.460464,  97.46357 ,  97.57044 ],\n",
       "       [ 97.37749 ,  97.3822  ,  97.493004],\n",
       "       [ 97.39221 ,  97.3986  ,  97.51192 ],\n",
       "       ...,\n",
       "       [156.26422 , 156.11372 , 155.5702  ],\n",
       "       [158.82622 , 158.68517 , 158.10002 ],\n",
       "       [160.41669 , 160.27704 , 159.66312 ]], dtype=float32)"
      ]
     },
     "execution_count": 65,
     "metadata": {},
     "output_type": "execute_result"
    }
   ],
   "source": [
    "y_pred"
   ]
  },
  {
   "cell_type": "code",
   "execution_count": 67,
   "metadata": {},
   "outputs": [
    {
     "data": {
      "text/plain": [
       "array([[ 94.33641052,  94.37631226,  94.44613647],\n",
       "       [ 94.37631226,  94.44613647,  96.70055389],\n",
       "       [ 94.44613647,  96.70055389,  95.274086  ],\n",
       "       ...,\n",
       "       [162.13999939, 163.58999634, 161.8500061 ],\n",
       "       [163.58999634, 161.8500061 , 162.28999329],\n",
       "       [161.8500061 , 162.28999329, 161.49000549]])"
      ]
     },
     "execution_count": 67,
     "metadata": {},
     "output_type": "execute_result"
    }
   ],
   "source": [
    "yy_test= scaler2.inverse_transform(y_test)\n",
    "yy_test"
   ]
  },
  {
   "cell_type": "code",
   "execution_count": 80,
   "metadata": {},
   "outputs": [
    {
     "data": {
      "image/png": "[encoded data removed]",
      "text/plain": [
       "<Figure size 640x480 with 1 Axes>"
      ]
     },
     "metadata": {},
     "output_type": "display_data"
    }
   ],
   "source": [
    "yy_test= scaler2.inverse_transform(y_test)\n",
    "plt.title(\"model fit to the test data\")\n",
    "plt.plot(yy_test[:-1,0],label='test_data',c='b')\n",
    "plt.plot(yy_test[-1:,],c='b')\n",
    "plt.plot(y_pred[:-1,0],label='test_pred',c='r')\n",
    "plt.plot(y_pred[-1:,],c='r')\n",
    "plt.ylabel(\"adj_close\")\n",
    "plt.legend()\n",
    "plt.show()"
   ]
  },
  {
   "cell_type": "code",
   "execution_count": 256,
   "metadata": {},
   "outputs": [
    {
     "data": {
      "text/plain": [
       "\"\\nval = pd.DataFrame()\\nval['x_test']=datag['Adj Close'].iloc[train_data_len:]\\nval['pred']=np.nan\\ny_pred = y_pred.reshape(-1)\\nval['pred'].iloc[timestamps+20:len(y_pred)+timestamps+20]=y_pred \\n\""
      ]
     },
     "execution_count": 256,
     "metadata": {},
     "output_type": "execute_result"
    }
   ],
   "source": [
    "\"\"\"\n",
    "val = pd.DataFrame()\n",
    "val['x_test']=datag['Adj Close'].iloc[train_data_len:]\n",
    "val['pred']=np.nan\n",
    "y_pred = y_pred.reshape(-1)\n",
    "val['pred'].iloc[timestamps+20:len(y_pred)+timestamps+20]=y_pred \n",
    "\"\"\""
   ]
  },
  {
   "cell_type": "code",
   "execution_count": 255,
   "metadata": {},
   "outputs": [
    {
     "data": {
      "text/plain": [
       "'\\nplt.figure(figsize=(12, 6))\\n#plt.plot(datag[\\'Adj Close\\'].iloc[:train_data_len],color=\\'b\\',label=\\'test_data\\')\\nplt.plot(val[\\'x_test\\'],label=\\'test_data\\')\\nplt.plot(val[\\'pred\\'],label=\\'test_pred\\')\\nplt.xticks(rotation=45)\\nplt.ylabel(\"Adj close\")\\nplt.xlabel(\"Date\")\\nplt.legend()\\nplt.tight_layout() \\nplt.show()\\n'"
      ]
     },
     "execution_count": 255,
     "metadata": {},
     "output_type": "execute_result"
    }
   ],
   "source": [
    "\"\"\"\n",
    "plt.figure(figsize=(12, 6))\n",
    "#plt.plot(datag['Adj Close'].iloc[:train_data_len],color='b',label='test_data')\n",
    "plt.plot(val['x_test'],label='test_data')\n",
    "plt.plot(val['pred'],label='test_pred')\n",
    "plt.xticks(rotation=45)\n",
    "plt.ylabel(\"Adj close\")\n",
    "plt.xlabel(\"Date\")\n",
    "plt.legend()\n",
    "plt.tight_layout() \n",
    "plt.show()\n",
    "\"\"\""
   ]
  },
  {
   "cell_type": "code",
   "execution_count": 258,
   "metadata": {},
   "outputs": [
    {
     "data": {
      "text/plain": [
       "['models/scaler5.pkl']"
      ]
     },
     "execution_count": 258,
     "metadata": {},
     "output_type": "execute_result"
    }
   ],
   "source": [
    "import joblib\n",
    "#model.save(\"models/model2.keras\")\n",
    "#joblib.dump(scaler1, 'models/scaler1.pkl')\n",
    "#joblib.dump(scaler2, 'models/scaler2.pkl')\n",
    "#joblib.dump(scaler3, 'models/scaler3.pkl')\n",
    "#joblib.dump(scaler4, 'models/scaler4.pkl')\n",
    "#joblib.dump(scaler5, 'models/scaler5.pkl')\n",
    "# model1 150 epochs tain_acc 0.0039, val_acc=0.0018, batch_size 27\n",
    "# model2 100 epochs train_acc 0.001, val_acc = 0.0008 ,batch_size 15,timestamps 70,\n",
    "# modelt , val_acc 0.0007"
   ]
  },
  {
   "cell_type": "code",
   "execution_count": 105,
   "metadata": {},
   "outputs": [
    {
     "name": "stderr",
     "output_type": "stream",
     "text": [
      "[*********************100%***********************]  1 of 1 completed\n"
     ]
    },
    {
     "data": {
      "text/plain": [
       "(80, 6)"
      ]
     },
     "execution_count": 105,
     "metadata": {},
     "output_type": "execute_result"
    }
   ],
   "source": [
    "#import streamlit as st \n",
    "import numpy as np\n",
    "import pandas as pd\n",
    "import yfinance as yf\n",
    "import datetime as dt\n",
    "from dateutil.relativedelta import relativedelta\n",
    "from sklearn.preprocessing import MinMaxScaler\n",
    "from tensorflow.keras.models import Sequential\n",
    "from tensorflow.keras.layers import LSTM, Dense, Dropout\n",
    "from tensorflow.keras.models import load_model\n",
    "import joblib\n",
    "import matplotlib.pyplot as plt\n",
    "\n",
    "\n",
    "#st.title(\"Google Stock Price Prediction\")\n",
    "#st.write(\"Predict future Google stock prices using LSTM and technical indicators.\")\n",
    "\n",
    "model = load_model('models/modelt.keras')\n",
    "scaler1 = joblib.load('models/scaler1.pkl')\n",
    "scaler2 = joblib.load('models/scaler2.pkl')\n",
    "scaler3 = joblib.load('models/scaler3.pkl')\n",
    "scaler4 = joblib.load('models/scaler4.pkl')\n",
    "scaler5 = joblib.load('models/scaler5.pkl') \n",
    "datem = dt.date.today() - relativedelta(months=4)\n",
    "temp = yf.download(\"GOOGL\",datem,dt.date.today())\n",
    "timestamps=60+20\n",
    "temp=temp[-(timestamps):]\n",
    "\n",
    "datagn = pd.DataFrame()\n",
    "datagn['MA_10'] = temp['Adj Close'].rolling(window=10).mean()\n",
    "datagn['Volatility'] = temp['Adj Close'].rolling(window=10).std()\n",
    "datagn['Daily Return'] = temp['Adj Close'].pct_change()\n",
    "datagn['Volume Change'] = temp['Volume'].rolling(window=10).mean()\n",
    "\n",
    "def calculate_rsi(data, period):\n",
    "    delta = data['Adj Close'].diff(1)\n",
    "    gain = (delta.where(delta > 0, 0)).rolling(window=period).mean()\n",
    "    loss = (-delta.where(delta < 0, 0)).rolling(window=period).mean()\n",
    "    rs = gain / loss\n",
    "    rsi = 100 - (100 / (1 + rs))\n",
    "    return rsi\n",
    "\n",
    "period =20\n",
    "datagn['RSI'] = calculate_rsi(temp,period)\n",
    "datagn['Adj Close']=temp['Adj Close']\n",
    "\n",
    "datagn['MA_10'] = scaler1.fit_transform(datagn['MA_10'].values.reshape(-1,1))\n",
    "datagn['Adj Close'] = scaler2.fit_transform(datagn['Adj Close'].values.reshape(-1,1))\n",
    "datagn['Volatility']=scaler3.fit_transform(datagn['Volatility'].values.reshape(-1,1))\n",
    "datagn['RSI'] = scaler4.fit_transform(datagn['RSI'].values.reshape(-1,1))\n",
    "datagn['Volume Change'] = scaler5.fit_transform(datagn['Volume Change'].values.reshape(-1,1))\n",
    "#datagn = datagn.dropna() \n",
    "#datagn = datagn[-60:]\n",
    "datagn.shape"
   ]
  },
  {
   "cell_type": "code",
   "execution_count": 106,
   "metadata": {},
   "outputs": [
    {
     "name": "stdout",
     "output_type": "stream",
     "text": [
      "\u001b[1m1/1\u001b[0m \u001b[32m━━━━━━━━━━━━━━━━━━━━\u001b[0m\u001b[37m\u001b[0m \u001b[1m1s\u001b[0m 726ms/step\n"
     ]
    },
    {
     "data": {
      "text/plain": [
       "array([[160.70009, 160.71402, 160.79192]], dtype=float32)"
      ]
     },
     "execution_count": 106,
     "metadata": {},
     "output_type": "execute_result"
    }
   ],
   "source": [
    "\n",
    "datagn= datagn.values\n",
    "datagn = datagn.reshape(1,datagn.shape[0],datagn.shape[1])\n",
    "days=3\n",
    "y_pred=model.predict(datagn) \n",
    "ele = scaler2.inverse_transform(y_pred)\n",
    "#ldays = st.slider(\"Select number of past days to display\", min_value=1, max_value=20, value=7)\n",
    "ele"
   ]
  },
  {
   "cell_type": "code",
   "execution_count": 108,
   "metadata": {},
   "outputs": [
    {
     "data": {
      "text/html": [
       "<pre style=\"white-space:pre;overflow-x:auto;line-height:normal;font-family:Menlo,'DejaVu Sans Mono',consolas,'Courier New',monospace\"><span style=\"font-weight: bold\">Model: \"sequential_25\"</span>\n",
       "</pre>\n"
      ],
      "text/plain": [
       "\u001b[1mModel: \"sequential_25\"\u001b[0m\n"
      ]
     },
     "metadata": {},
     "output_type": "display_data"
    },
    {
     "data": {
      "text/html": [
       "<pre style=\"white-space:pre;overflow-x:auto;line-height:normal;font-family:Menlo,'DejaVu Sans Mono',consolas,'Courier New',monospace\">┏━━━━━━━━━━━━━━━━━━━━━━━━━━━━━━━━━┳━━━━━━━━━━━━━━━━━━━━━━━━┳━━━━━━━━━━━━━━━┓\n",
       "┃<span style=\"font-weight: bold\"> Layer (type)                    </span>┃<span style=\"font-weight: bold\"> Output Shape           </span>┃<span style=\"font-weight: bold\">       Param # </span>┃\n",
       "┡━━━━━━━━━━━━━━━━━━━━━━━━━━━━━━━━━╇━━━━━━━━━━━━━━━━━━━━━━━━╇━━━━━━━━━━━━━━━┩\n",
       "│ lstm_78 (<span style=\"color: #0087ff; text-decoration-color: #0087ff\">LSTM</span>)                  │ (<span style=\"color: #00d7ff; text-decoration-color: #00d7ff\">None</span>, <span style=\"color: #00af00; text-decoration-color: #00af00\">60</span>, <span style=\"color: #00af00; text-decoration-color: #00af00\">150</span>)        │        <span style=\"color: #00af00; text-decoration-color: #00af00\">94,200</span> │\n",
       "├─────────────────────────────────┼────────────────────────┼───────────────┤\n",
       "│ lstm_79 (<span style=\"color: #0087ff; text-decoration-color: #0087ff\">LSTM</span>)                  │ (<span style=\"color: #00d7ff; text-decoration-color: #00d7ff\">None</span>, <span style=\"color: #00af00; text-decoration-color: #00af00\">60</span>, <span style=\"color: #00af00; text-decoration-color: #00af00\">120</span>)        │       <span style=\"color: #00af00; text-decoration-color: #00af00\">130,080</span> │\n",
       "├─────────────────────────────────┼────────────────────────┼───────────────┤\n",
       "│ lstm_80 (<span style=\"color: #0087ff; text-decoration-color: #0087ff\">LSTM</span>)                  │ (<span style=\"color: #00d7ff; text-decoration-color: #00d7ff\">None</span>, <span style=\"color: #00af00; text-decoration-color: #00af00\">75</span>)             │        <span style=\"color: #00af00; text-decoration-color: #00af00\">58,800</span> │\n",
       "├─────────────────────────────────┼────────────────────────┼───────────────┤\n",
       "│ dense_50 (<span style=\"color: #0087ff; text-decoration-color: #0087ff\">Dense</span>)                │ (<span style=\"color: #00d7ff; text-decoration-color: #00d7ff\">None</span>, <span style=\"color: #00af00; text-decoration-color: #00af00\">70</span>)             │         <span style=\"color: #00af00; text-decoration-color: #00af00\">5,320</span> │\n",
       "├─────────────────────────────────┼────────────────────────┼───────────────┤\n",
       "│ dropout_59 (<span style=\"color: #0087ff; text-decoration-color: #0087ff\">Dropout</span>)            │ (<span style=\"color: #00d7ff; text-decoration-color: #00d7ff\">None</span>, <span style=\"color: #00af00; text-decoration-color: #00af00\">70</span>)             │             <span style=\"color: #00af00; text-decoration-color: #00af00\">0</span> │\n",
       "├─────────────────────────────────┼────────────────────────┼───────────────┤\n",
       "│ dense_51 (<span style=\"color: #0087ff; text-decoration-color: #0087ff\">Dense</span>)                │ (<span style=\"color: #00d7ff; text-decoration-color: #00d7ff\">None</span>, <span style=\"color: #00af00; text-decoration-color: #00af00\">3</span>)              │           <span style=\"color: #00af00; text-decoration-color: #00af00\">213</span> │\n",
       "└─────────────────────────────────┴────────────────────────┴───────────────┘\n",
       "</pre>\n"
      ],
      "text/plain": [
       "┏━━━━━━━━━━━━━━━━━━━━━━━━━━━━━━━━━┳━━━━━━━━━━━━━━━━━━━━━━━━┳━━━━━━━━━━━━━━━┓\n",
       "┃\u001b[1m \u001b[0m\u001b[1mLayer (type)                   \u001b[0m\u001b[1m \u001b[0m┃\u001b[1m \u001b[0m\u001b[1mOutput Shape          \u001b[0m\u001b[1m \u001b[0m┃\u001b[1m \u001b[0m\u001b[1m      Param #\u001b[0m\u001b[1m \u001b[0m┃\n",
       "┡━━━━━━━━━━━━━━━━━━━━━━━━━━━━━━━━━╇━━━━━━━━━━━━━━━━━━━━━━━━╇━━━━━━━━━━━━━━━┩\n",
       "│ lstm_78 (\u001b[38;5;33mLSTM\u001b[0m)                  │ (\u001b[38;5;45mNone\u001b[0m, \u001b[38;5;34m60\u001b[0m, \u001b[38;5;34m150\u001b[0m)        │        \u001b[38;5;34m94,200\u001b[0m │\n",
       "├─────────────────────────────────┼────────────────────────┼───────────────┤\n",
       "│ lstm_79 (\u001b[38;5;33mLSTM\u001b[0m)                  │ (\u001b[38;5;45mNone\u001b[0m, \u001b[38;5;34m60\u001b[0m, \u001b[38;5;34m120\u001b[0m)        │       \u001b[38;5;34m130,080\u001b[0m │\n",
       "├─────────────────────────────────┼────────────────────────┼───────────────┤\n",
       "│ lstm_80 (\u001b[38;5;33mLSTM\u001b[0m)                  │ (\u001b[38;5;45mNone\u001b[0m, \u001b[38;5;34m75\u001b[0m)             │        \u001b[38;5;34m58,800\u001b[0m │\n",
       "├─────────────────────────────────┼────────────────────────┼───────────────┤\n",
       "│ dense_50 (\u001b[38;5;33mDense\u001b[0m)                │ (\u001b[38;5;45mNone\u001b[0m, \u001b[38;5;34m70\u001b[0m)             │         \u001b[38;5;34m5,320\u001b[0m │\n",
       "├─────────────────────────────────┼────────────────────────┼───────────────┤\n",
       "│ dropout_59 (\u001b[38;5;33mDropout\u001b[0m)            │ (\u001b[38;5;45mNone\u001b[0m, \u001b[38;5;34m70\u001b[0m)             │             \u001b[38;5;34m0\u001b[0m │\n",
       "├─────────────────────────────────┼────────────────────────┼───────────────┤\n",
       "│ dense_51 (\u001b[38;5;33mDense\u001b[0m)                │ (\u001b[38;5;45mNone\u001b[0m, \u001b[38;5;34m3\u001b[0m)              │           \u001b[38;5;34m213\u001b[0m │\n",
       "└─────────────────────────────────┴────────────────────────┴───────────────┘\n"
      ]
     },
     "metadata": {},
     "output_type": "display_data"
    },
    {
     "data": {
      "text/html": [
       "<pre style=\"white-space:pre;overflow-x:auto;line-height:normal;font-family:Menlo,'DejaVu Sans Mono',consolas,'Courier New',monospace\"><span style=\"font-weight: bold\"> Total params: </span><span style=\"color: #00af00; text-decoration-color: #00af00\">865,841</span> (3.30 MB)\n",
       "</pre>\n"
      ],
      "text/plain": [
       "\u001b[1m Total params: \u001b[0m\u001b[38;5;34m865,841\u001b[0m (3.30 MB)\n"
      ]
     },
     "metadata": {},
     "output_type": "display_data"
    },
    {
     "data": {
      "text/html": [
       "<pre style=\"white-space:pre;overflow-x:auto;line-height:normal;font-family:Menlo,'DejaVu Sans Mono',consolas,'Courier New',monospace\"><span style=\"font-weight: bold\"> Trainable params: </span><span style=\"color: #00af00; text-decoration-color: #00af00\">288,613</span> (1.10 MB)\n",
       "</pre>\n"
      ],
      "text/plain": [
       "\u001b[1m Trainable params: \u001b[0m\u001b[38;5;34m288,613\u001b[0m (1.10 MB)\n"
      ]
     },
     "metadata": {},
     "output_type": "display_data"
    },
    {
     "data": {
      "text/html": [
       "<pre style=\"white-space:pre;overflow-x:auto;line-height:normal;font-family:Menlo,'DejaVu Sans Mono',consolas,'Courier New',monospace\"><span style=\"font-weight: bold\"> Non-trainable params: </span><span style=\"color: #00af00; text-decoration-color: #00af00\">0</span> (0.00 B)\n",
       "</pre>\n"
      ],
      "text/plain": [
       "\u001b[1m Non-trainable params: \u001b[0m\u001b[38;5;34m0\u001b[0m (0.00 B)\n"
      ]
     },
     "metadata": {},
     "output_type": "display_data"
    },
    {
     "data": {
      "text/html": [
       "<pre style=\"white-space:pre;overflow-x:auto;line-height:normal;font-family:Menlo,'DejaVu Sans Mono',consolas,'Courier New',monospace\"><span style=\"font-weight: bold\"> Optimizer params: </span><span style=\"color: #00af00; text-decoration-color: #00af00\">577,228</span> (2.20 MB)\n",
       "</pre>\n"
      ],
      "text/plain": [
       "\u001b[1m Optimizer params: \u001b[0m\u001b[38;5;34m577,228\u001b[0m (2.20 MB)\n"
      ]
     },
     "metadata": {},
     "output_type": "display_data"
    }
   ],
   "source": [
    "model.summary()"
   ]
  },
  {
   "cell_type": "code",
   "execution_count": null,
   "metadata": {},
   "outputs": [],
   "source": [
    "dff1 = temp['Adj Close'][-10:] # last ten days\n",
    "date_index = pd.date_range(start=dt.date.today(), periods=days, freq='D')\n",
    "dff = pd.DataFrame(index=date_index)\n",
    "dff['Adj Close']=ele[0]\n",
    "dff = dff.rename_axis('Date')\n",
    "dff2 = pd.concat([dff1,dff],axis=0)\n",
    "\n",
    "combined_df = dff2\n",
    "plt.figure(figsize=(12, 6))\n",
    "plt.plot(combined_df.index, combined_df['Adj Close'], marker='o', label='Close Prices')\n",
    "plt.axvline(x=combined_df.index[-(days)], color='red', linestyle='--', label='Prediction Start')  # Line to indicate where predictions start\n",
    "plt.title('Google Stock Price')\n",
    "plt.xlabel('Date')\n",
    "plt.ylabel('Adj Closing Price')\n",
    "plt.xticks(ticks=combined_df.index, rotation=45)\n",
    "plt.legend()\n",
    "plt.grid()\n",
    "plt.tight_layout()\n",
    "plt.show()"
   ]
  },
  {
   "cell_type": "code",
   "execution_count": 284,
   "metadata": {},
   "outputs": [
    {
     "data": {
      "text/html": [
       "<div>\n",
       "<style scoped>\n",
       "    .dataframe tbody tr th:only-of-type {\n",
       "        vertical-align: middle;\n",
       "    }\n",
       "\n",
       "    .dataframe tbody tr th {\n",
       "        vertical-align: top;\n",
       "    }\n",
       "\n",
       "    .dataframe thead th {\n",
       "        text-align: right;\n",
       "    }\n",
       "</style>\n",
       "<table border=\"1\" class=\"dataframe\">\n",
       "  <thead>\n",
       "    <tr style=\"text-align: right;\">\n",
       "      <th></th>\n",
       "      <th>Open</th>\n",
       "      <th>High</th>\n",
       "      <th>Low</th>\n",
       "      <th>Close</th>\n",
       "      <th>Adj Close</th>\n",
       "      <th>Volume</th>\n",
       "    </tr>\n",
       "    <tr>\n",
       "      <th>Date</th>\n",
       "      <th></th>\n",
       "      <th></th>\n",
       "      <th></th>\n",
       "      <th></th>\n",
       "      <th></th>\n",
       "      <th></th>\n",
       "    </tr>\n",
       "  </thead>\n",
       "  <tbody>\n",
       "    <tr>\n",
       "      <th>2024-09-19</th>\n",
       "      <td>163.710007</td>\n",
       "      <td>163.789993</td>\n",
       "      <td>161.339996</td>\n",
       "      <td>162.139999</td>\n",
       "      <td>162.139999</td>\n",
       "      <td>26587700</td>\n",
       "    </tr>\n",
       "    <tr>\n",
       "      <th>2024-09-20</th>\n",
       "      <td>163.500000</td>\n",
       "      <td>163.729996</td>\n",
       "      <td>162.059998</td>\n",
       "      <td>163.589996</td>\n",
       "      <td>163.589996</td>\n",
       "      <td>40896400</td>\n",
       "    </tr>\n",
       "    <tr>\n",
       "      <th>2024-09-23</th>\n",
       "      <td>164.350006</td>\n",
       "      <td>165.490005</td>\n",
       "      <td>161.669998</td>\n",
       "      <td>161.850006</td>\n",
       "      <td>161.850006</td>\n",
       "      <td>24150900</td>\n",
       "    </tr>\n",
       "    <tr>\n",
       "      <th>2024-09-24</th>\n",
       "      <td>163.029999</td>\n",
       "      <td>163.220001</td>\n",
       "      <td>160.690002</td>\n",
       "      <td>162.289993</td>\n",
       "      <td>162.289993</td>\n",
       "      <td>23332100</td>\n",
       "    </tr>\n",
       "    <tr>\n",
       "      <th>2024-09-25</th>\n",
       "      <td>161.470001</td>\n",
       "      <td>162.809998</td>\n",
       "      <td>161.300003</td>\n",
       "      <td>161.490005</td>\n",
       "      <td>161.490005</td>\n",
       "      <td>18838900</td>\n",
       "    </tr>\n",
       "  </tbody>\n",
       "</table>\n",
       "</div>"
      ],
      "text/plain": [
       "                  Open        High         Low       Close   Adj Close  \\\n",
       "Date                                                                     \n",
       "2024-09-19  163.710007  163.789993  161.339996  162.139999  162.139999   \n",
       "2024-09-20  163.500000  163.729996  162.059998  163.589996  163.589996   \n",
       "2024-09-23  164.350006  165.490005  161.669998  161.850006  161.850006   \n",
       "2024-09-24  163.029999  163.220001  160.690002  162.289993  162.289993   \n",
       "2024-09-25  161.470001  162.809998  161.300003  161.490005  161.490005   \n",
       "\n",
       "              Volume  \n",
       "Date                  \n",
       "2024-09-19  26587700  \n",
       "2024-09-20  40896400  \n",
       "2024-09-23  24150900  \n",
       "2024-09-24  23332100  \n",
       "2024-09-25  18838900  "
      ]
     },
     "execution_count": 284,
     "metadata": {},
     "output_type": "execute_result"
    }
   ],
   "source": [
    "temp.tail(5)"
   ]
  },
  {
   "cell_type": "code",
   "execution_count": null,
   "metadata": {},
   "outputs": [],
   "source": [
    "# Recurrent forecasting\n",
    "\"\"\"\n",
    "res =[]\n",
    "days = int(input(\"Enter no.of future days to predict\"))\n",
    "\n",
    "for i in range(days):\n",
    "    y_pred=model.predict(datagn)\n",
    "    ele = scaler2.inverse_transform(y_pred)\n",
    "    res.append(ele)\n",
    "    datagn=datagn[0][1:]\n",
    "    scaled_data = np.append(scaled_data, y_pred)\n",
    "    scaled_data1=scaled_data.reshape(1,scaled_data.shape[0],1)\n",
    "res=np.concatenate(res)\n",
    "\"\"\""
   ]
  }
 ],
 "metadata": {
  "kernelspec": {
   "display_name": ".myenv",
   "language": "python",
   "name": "python3"
  },
  "language_info": {
   "codemirror_mode": {
    "name": "ipython",
    "version": 3
   },
   "file_extension": ".py",
   "mimetype": "text/x-python",
   "name": "python",
   "nbconvert_exporter": "python",
   "pygments_lexer": "ipython3",
   "version": "3.11.9"
  }
 },
 "nbformat": 4,
 "nbformat_minor": 2
}
